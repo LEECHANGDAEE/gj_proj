{
  "nbformat": 4,
  "nbformat_minor": 0,
  "metadata": {
    "colab": {
      "name": "60대.ipynb",
      "provenance": [],
      "authorship_tag": "ABX9TyMumFkZrQbLCGhFxc4t2QRe",
      "include_colab_link": true
    },
    "kernelspec": {
      "name": "python3",
      "display_name": "Python 3"
    },
    "language_info": {
      "name": "python"
    }
  },
  "cells": [
    {
      "cell_type": "markdown",
      "metadata": {
        "id": "view-in-github",
        "colab_type": "text"
      },
      "source": [
        "<a href=\"https://colab.research.google.com/github/LEECHANGDAEE/gj_proj/blob/main/60%EB%8C%80.ipynb\" target=\"_parent\"><img src=\"https://colab.research.google.com/assets/colab-badge.svg\" alt=\"Open In Colab\"/></a>"
      ]
    },
    {
      "cell_type": "code",
      "metadata": {
        "colab": {
          "base_uri": "https://localhost:8080/"
        },
        "id": "vz201AQnw2X_",
        "outputId": "0151c232-644f-40e2-c158-a59706382a27"
      },
      "source": [
        "!pip install mglearn"
      ],
      "execution_count": 1,
      "outputs": [
        {
          "output_type": "stream",
          "name": "stdout",
          "text": [
            "Collecting mglearn\n",
            "  Downloading mglearn-0.1.9.tar.gz (540 kB)\n",
            "\u001b[?25l\r\u001b[K     |▋                               | 10 kB 26.4 MB/s eta 0:00:01\r\u001b[K     |█▏                              | 20 kB 29.6 MB/s eta 0:00:01\r\u001b[K     |█▉                              | 30 kB 31.5 MB/s eta 0:00:01\r\u001b[K     |██▍                             | 40 kB 21.1 MB/s eta 0:00:01\r\u001b[K     |███                             | 51 kB 14.0 MB/s eta 0:00:01\r\u001b[K     |███▋                            | 61 kB 15.9 MB/s eta 0:00:01\r\u001b[K     |████▎                           | 71 kB 15.4 MB/s eta 0:00:01\r\u001b[K     |████▉                           | 81 kB 17.1 MB/s eta 0:00:01\r\u001b[K     |█████▌                          | 92 kB 12.8 MB/s eta 0:00:01\r\u001b[K     |██████                          | 102 kB 13.3 MB/s eta 0:00:01\r\u001b[K     |██████▊                         | 112 kB 13.3 MB/s eta 0:00:01\r\u001b[K     |███████▎                        | 122 kB 13.3 MB/s eta 0:00:01\r\u001b[K     |███████▉                        | 133 kB 13.3 MB/s eta 0:00:01\r\u001b[K     |████████▌                       | 143 kB 13.3 MB/s eta 0:00:01\r\u001b[K     |█████████                       | 153 kB 13.3 MB/s eta 0:00:01\r\u001b[K     |█████████▊                      | 163 kB 13.3 MB/s eta 0:00:01\r\u001b[K     |██████████▎                     | 174 kB 13.3 MB/s eta 0:00:01\r\u001b[K     |███████████                     | 184 kB 13.3 MB/s eta 0:00:01\r\u001b[K     |███████████▌                    | 194 kB 13.3 MB/s eta 0:00:01\r\u001b[K     |████████████▏                   | 204 kB 13.3 MB/s eta 0:00:01\r\u001b[K     |████████████▊                   | 215 kB 13.3 MB/s eta 0:00:01\r\u001b[K     |█████████████▍                  | 225 kB 13.3 MB/s eta 0:00:01\r\u001b[K     |██████████████                  | 235 kB 13.3 MB/s eta 0:00:01\r\u001b[K     |██████████████▋                 | 245 kB 13.3 MB/s eta 0:00:01\r\u001b[K     |███████████████▏                | 256 kB 13.3 MB/s eta 0:00:01\r\u001b[K     |███████████████▊                | 266 kB 13.3 MB/s eta 0:00:01\r\u001b[K     |████████████████▍               | 276 kB 13.3 MB/s eta 0:00:01\r\u001b[K     |█████████████████               | 286 kB 13.3 MB/s eta 0:00:01\r\u001b[K     |█████████████████▋              | 296 kB 13.3 MB/s eta 0:00:01\r\u001b[K     |██████████████████▏             | 307 kB 13.3 MB/s eta 0:00:01\r\u001b[K     |██████████████████▉             | 317 kB 13.3 MB/s eta 0:00:01\r\u001b[K     |███████████████████▍            | 327 kB 13.3 MB/s eta 0:00:01\r\u001b[K     |████████████████████            | 337 kB 13.3 MB/s eta 0:00:01\r\u001b[K     |████████████████████▋           | 348 kB 13.3 MB/s eta 0:00:01\r\u001b[K     |█████████████████████▎          | 358 kB 13.3 MB/s eta 0:00:01\r\u001b[K     |█████████████████████▉          | 368 kB 13.3 MB/s eta 0:00:01\r\u001b[K     |██████████████████████▌         | 378 kB 13.3 MB/s eta 0:00:01\r\u001b[K     |███████████████████████         | 389 kB 13.3 MB/s eta 0:00:01\r\u001b[K     |███████████████████████▋        | 399 kB 13.3 MB/s eta 0:00:01\r\u001b[K     |████████████████████████▎       | 409 kB 13.3 MB/s eta 0:00:01\r\u001b[K     |████████████████████████▉       | 419 kB 13.3 MB/s eta 0:00:01\r\u001b[K     |█████████████████████████▌      | 430 kB 13.3 MB/s eta 0:00:01\r\u001b[K     |██████████████████████████      | 440 kB 13.3 MB/s eta 0:00:01\r\u001b[K     |██████████████████████████▊     | 450 kB 13.3 MB/s eta 0:00:01\r\u001b[K     |███████████████████████████▎    | 460 kB 13.3 MB/s eta 0:00:01\r\u001b[K     |████████████████████████████    | 471 kB 13.3 MB/s eta 0:00:01\r\u001b[K     |████████████████████████████▌   | 481 kB 13.3 MB/s eta 0:00:01\r\u001b[K     |█████████████████████████████▏  | 491 kB 13.3 MB/s eta 0:00:01\r\u001b[K     |█████████████████████████████▊  | 501 kB 13.3 MB/s eta 0:00:01\r\u001b[K     |██████████████████████████████▍ | 512 kB 13.3 MB/s eta 0:00:01\r\u001b[K     |███████████████████████████████ | 522 kB 13.3 MB/s eta 0:00:01\r\u001b[K     |███████████████████████████████▌| 532 kB 13.3 MB/s eta 0:00:01\r\u001b[K     |████████████████████████████████| 540 kB 13.3 MB/s \n",
            "\u001b[?25hRequirement already satisfied: numpy in /usr/local/lib/python3.7/dist-packages (from mglearn) (1.19.5)\n",
            "Requirement already satisfied: matplotlib in /usr/local/lib/python3.7/dist-packages (from mglearn) (3.2.2)\n",
            "Requirement already satisfied: scikit-learn in /usr/local/lib/python3.7/dist-packages (from mglearn) (0.22.2.post1)\n",
            "Requirement already satisfied: pandas in /usr/local/lib/python3.7/dist-packages (from mglearn) (1.1.5)\n",
            "Requirement already satisfied: pillow in /usr/local/lib/python3.7/dist-packages (from mglearn) (7.1.2)\n",
            "Requirement already satisfied: cycler in /usr/local/lib/python3.7/dist-packages (from mglearn) (0.10.0)\n",
            "Requirement already satisfied: imageio in /usr/local/lib/python3.7/dist-packages (from mglearn) (2.4.1)\n",
            "Requirement already satisfied: joblib in /usr/local/lib/python3.7/dist-packages (from mglearn) (1.0.1)\n",
            "Requirement already satisfied: six in /usr/local/lib/python3.7/dist-packages (from cycler->mglearn) (1.15.0)\n",
            "Requirement already satisfied: pyparsing!=2.0.4,!=2.1.2,!=2.1.6,>=2.0.1 in /usr/local/lib/python3.7/dist-packages (from matplotlib->mglearn) (2.4.7)\n",
            "Requirement already satisfied: kiwisolver>=1.0.1 in /usr/local/lib/python3.7/dist-packages (from matplotlib->mglearn) (1.3.2)\n",
            "Requirement already satisfied: python-dateutil>=2.1 in /usr/local/lib/python3.7/dist-packages (from matplotlib->mglearn) (2.8.2)\n",
            "Requirement already satisfied: pytz>=2017.2 in /usr/local/lib/python3.7/dist-packages (from pandas->mglearn) (2018.9)\n",
            "Requirement already satisfied: scipy>=0.17.0 in /usr/local/lib/python3.7/dist-packages (from scikit-learn->mglearn) (1.4.1)\n",
            "Building wheels for collected packages: mglearn\n",
            "  Building wheel for mglearn (setup.py) ... \u001b[?25l\u001b[?25hdone\n",
            "  Created wheel for mglearn: filename=mglearn-0.1.9-py2.py3-none-any.whl size=582637 sha256=f3827a1c6e1135b2441ab756a9454e876de018cc569eae00a9585c672b414b0b\n",
            "  Stored in directory: /root/.cache/pip/wheels/f1/17/e1/1720d6dcd70187b6b6c3750cb3508798f2b1d57c9d3214b08b\n",
            "Successfully built mglearn\n",
            "Installing collected packages: mglearn\n",
            "Successfully installed mglearn-0.1.9\n"
          ]
        }
      ]
    },
    {
      "cell_type": "code",
      "metadata": {
        "id": "JeuEiCXmw5tj"
      },
      "source": [
        "import numpy as np\n",
        "import pandas as pd\n",
        "import csv\n",
        "import matplotlib.pyplot as plt\n",
        "import seaborn as sns\n",
        "from sklearn.linear_model import LogisticRegression\n",
        "import mglearn"
      ],
      "execution_count": 2,
      "outputs": []
    },
    {
      "cell_type": "code",
      "metadata": {
        "id": "BOx5CEJ4w-or"
      },
      "source": [
        "df = pd.read_csv('DATA_P.csv', encoding='utf-8')"
      ],
      "execution_count": 3,
      "outputs": []
    },
    {
      "cell_type": "code",
      "metadata": {
        "id": "VD-ZlLk2w-1j"
      },
      "source": [
        "df_1 = df.drop(['TEST_CNT','AGE_GBN','CENTER_NM','TEST_GBN','INPUT_GBN','CERT_GBN','TEST_YMD','PRES_NOTE','ITEM_F011','ITEM_F029','ITEM_F038','ITEM_F039'],axis=1)\n"
      ],
      "execution_count": 4,
      "outputs": []
    },
    {
      "cell_type": "code",
      "metadata": {
        "id": "cRK8rfezw_8B"
      },
      "source": [
        "df_60 = df_1[df_1['TEST_AGE'] >= 60]"
      ],
      "execution_count": 7,
      "outputs": []
    },
    {
      "cell_type": "code",
      "metadata": {
        "colab": {
          "base_uri": "https://localhost:8080/"
        },
        "id": "snmPYzd8xDDP",
        "outputId": "93802d36-9892-4f71-c29e-c5893add08f0"
      },
      "source": [
        "df_60.info()"
      ],
      "execution_count": 8,
      "outputs": [
        {
          "output_type": "stream",
          "name": "stdout",
          "text": [
            "<class 'pandas.core.frame.DataFrame'>\n",
            "Int64Index: 150 entries, 78 to 1430\n",
            "Data columns (total 39 columns):\n",
            " #   Column     Non-Null Count  Dtype  \n",
            "---  ------     --------------  -----  \n",
            " 0   TEST_AGE   150 non-null    int64  \n",
            " 1   TEST_SEX   150 non-null    object \n",
            " 2   ITEM_F001  150 non-null    float64\n",
            " 3   ITEM_F002  150 non-null    float64\n",
            " 4   ITEM_F003  150 non-null    float64\n",
            " 5   ITEM_F004  150 non-null    float64\n",
            " 6   ITEM_F005  150 non-null    float64\n",
            " 7   ITEM_F006  150 non-null    float64\n",
            " 8   ITEM_F007  149 non-null    float64\n",
            " 9   ITEM_F008  150 non-null    float64\n",
            " 10  ITEM_F009  0 non-null      float64\n",
            " 11  ITEM_F010  0 non-null      float64\n",
            " 12  ITEM_F012  150 non-null    float64\n",
            " 13  ITEM_F013  0 non-null      float64\n",
            " 14  ITEM_F014  0 non-null      float64\n",
            " 15  ITEM_F015  0 non-null      float64\n",
            " 16  ITEM_F016  0 non-null      float64\n",
            " 17  ITEM_F017  0 non-null      float64\n",
            " 18  ITEM_F018  150 non-null    float64\n",
            " 19  ITEM_F019  87 non-null     float64\n",
            " 20  ITEM_F020  1 non-null      float64\n",
            " 21  ITEM_F021  2 non-null      float64\n",
            " 22  ITEM_F022  59 non-null     float64\n",
            " 23  ITEM_F023  62 non-null     float64\n",
            " 24  ITEM_F024  23 non-null     float64\n",
            " 25  ITEM_F025  39 non-null     float64\n",
            " 26  ITEM_F026  62 non-null     float64\n",
            " 27  ITEM_F027  62 non-null     float64\n",
            " 28  ITEM_F028  150 non-null    float64\n",
            " 29  ITEM_F030  1 non-null      float64\n",
            " 30  ITEM_F031  19 non-null     float64\n",
            " 31  ITEM_F032  19 non-null     float64\n",
            " 32  ITEM_F033  19 non-null     float64\n",
            " 33  ITEM_F034  12 non-null     float64\n",
            " 34  ITEM_F035  10 non-null     float64\n",
            " 35  ITEM_F036  41 non-null     float64\n",
            " 36  ITEM_F037  67 non-null     float64\n",
            " 37  ITEM_F040  81 non-null     float64\n",
            " 38  ITEM_F041  25 non-null     float64\n",
            "dtypes: float64(37), int64(1), object(1)\n",
            "memory usage: 46.9+ KB\n"
          ]
        }
      ]
    },
    {
      "cell_type": "code",
      "metadata": {
        "id": "pWTbYDZnxI3a"
      },
      "source": [
        "df_60 = df_60.drop(['ITEM_F007','ITEM_F009','ITEM_F010','ITEM_F013','ITEM_F014','ITEM_F015','ITEM_F016','ITEM_F017','ITEM_F018','ITEM_F020','ITEM_F021','ITEM_F024','ITEM_F025','ITEM_F026','ITEM_F027','ITEM_F028','ITEM_F030','ITEM_F031','ITEM_F032','ITEM_F033','ITEM_F034','ITEM_F035','ITEM_F036','ITEM_F037','ITEM_F040','ITEM_F041'],axis=1)\n"
      ],
      "execution_count": 10,
      "outputs": []
    },
    {
      "cell_type": "code",
      "metadata": {
        "colab": {
          "base_uri": "https://localhost:8080/"
        },
        "id": "xWZBKyzRxG_J",
        "outputId": "d04de298-1756-463b-efde-672b0700f445"
      },
      "source": [
        "df_60.info()"
      ],
      "execution_count": 11,
      "outputs": [
        {
          "output_type": "stream",
          "name": "stdout",
          "text": [
            "<class 'pandas.core.frame.DataFrame'>\n",
            "Int64Index: 150 entries, 78 to 1430\n",
            "Data columns (total 13 columns):\n",
            " #   Column     Non-Null Count  Dtype  \n",
            "---  ------     --------------  -----  \n",
            " 0   TEST_AGE   150 non-null    int64  \n",
            " 1   TEST_SEX   150 non-null    object \n",
            " 2   ITEM_F001  150 non-null    float64\n",
            " 3   ITEM_F002  150 non-null    float64\n",
            " 4   ITEM_F003  150 non-null    float64\n",
            " 5   ITEM_F004  150 non-null    float64\n",
            " 6   ITEM_F005  150 non-null    float64\n",
            " 7   ITEM_F006  150 non-null    float64\n",
            " 8   ITEM_F008  150 non-null    float64\n",
            " 9   ITEM_F012  150 non-null    float64\n",
            " 10  ITEM_F019  87 non-null     float64\n",
            " 11  ITEM_F022  59 non-null     float64\n",
            " 12  ITEM_F023  62 non-null     float64\n",
            "dtypes: float64(11), int64(1), object(1)\n",
            "memory usage: 16.4+ KB\n"
          ]
        }
      ]
    },
    {
      "cell_type": "code",
      "metadata": {
        "id": "YUB-JxD2zxfk"
      },
      "source": [
        "df_60['ITEM_F019'] = df_60['ITEM_F019'].fillna(df_60['ITEM_F019'].mean())\n",
        "df_60['ITEM_F022'] = df_60['ITEM_F022'].fillna(df_60['ITEM_F022'].mean())\n",
        "df_60['ITEM_F023'] = df_60['ITEM_F023'].fillna(df_60['ITEM_F023'].mean())"
      ],
      "execution_count": 12,
      "outputs": []
    },
    {
      "cell_type": "code",
      "metadata": {
        "colab": {
          "base_uri": "https://localhost:8080/"
        },
        "id": "MIZ9xKIyz-h4",
        "outputId": "d68ca465-70e0-4a6a-9a7b-12310c819432"
      },
      "source": [
        "df_60.info()"
      ],
      "execution_count": 13,
      "outputs": [
        {
          "output_type": "stream",
          "name": "stdout",
          "text": [
            "<class 'pandas.core.frame.DataFrame'>\n",
            "Int64Index: 150 entries, 78 to 1430\n",
            "Data columns (total 13 columns):\n",
            " #   Column     Non-Null Count  Dtype  \n",
            "---  ------     --------------  -----  \n",
            " 0   TEST_AGE   150 non-null    int64  \n",
            " 1   TEST_SEX   150 non-null    object \n",
            " 2   ITEM_F001  150 non-null    float64\n",
            " 3   ITEM_F002  150 non-null    float64\n",
            " 4   ITEM_F003  150 non-null    float64\n",
            " 5   ITEM_F004  150 non-null    float64\n",
            " 6   ITEM_F005  150 non-null    float64\n",
            " 7   ITEM_F006  150 non-null    float64\n",
            " 8   ITEM_F008  150 non-null    float64\n",
            " 9   ITEM_F012  150 non-null    float64\n",
            " 10  ITEM_F019  150 non-null    float64\n",
            " 11  ITEM_F022  150 non-null    float64\n",
            " 12  ITEM_F023  150 non-null    float64\n",
            "dtypes: float64(11), int64(1), object(1)\n",
            "memory usage: 16.4+ KB\n"
          ]
        }
      ]
    },
    {
      "cell_type": "code",
      "metadata": {
        "id": "5qI_Wnn70Abq"
      },
      "source": [
        "df_60 = pd.get_dummies(df_60, columns = ['TEST_SEX'])"
      ],
      "execution_count": 14,
      "outputs": []
    },
    {
      "cell_type": "code",
      "metadata": {
        "colab": {
          "base_uri": "https://localhost:8080/"
        },
        "id": "C0Xpk-HO0EPT",
        "outputId": "3b2b497e-0b09-42a6-a69f-c21bfbb5a5b2"
      },
      "source": [
        "df_60.info()"
      ],
      "execution_count": 15,
      "outputs": [
        {
          "output_type": "stream",
          "name": "stdout",
          "text": [
            "<class 'pandas.core.frame.DataFrame'>\n",
            "Int64Index: 150 entries, 78 to 1430\n",
            "Data columns (total 14 columns):\n",
            " #   Column      Non-Null Count  Dtype  \n",
            "---  ------      --------------  -----  \n",
            " 0   TEST_AGE    150 non-null    int64  \n",
            " 1   ITEM_F001   150 non-null    float64\n",
            " 2   ITEM_F002   150 non-null    float64\n",
            " 3   ITEM_F003   150 non-null    float64\n",
            " 4   ITEM_F004   150 non-null    float64\n",
            " 5   ITEM_F005   150 non-null    float64\n",
            " 6   ITEM_F006   150 non-null    float64\n",
            " 7   ITEM_F008   150 non-null    float64\n",
            " 8   ITEM_F012   150 non-null    float64\n",
            " 9   ITEM_F019   150 non-null    float64\n",
            " 10  ITEM_F022   150 non-null    float64\n",
            " 11  ITEM_F023   150 non-null    float64\n",
            " 12  TEST_SEX_F  150 non-null    uint8  \n",
            " 13  TEST_SEX_M  150 non-null    uint8  \n",
            "dtypes: float64(11), int64(1), uint8(2)\n",
            "memory usage: 15.5 KB\n"
          ]
        }
      ]
    },
    {
      "cell_type": "code",
      "metadata": {
        "id": "K1lXlYdi0GYE"
      },
      "source": [
        "X_60 = df_60"
      ],
      "execution_count": 16,
      "outputs": []
    },
    {
      "cell_type": "code",
      "metadata": {
        "colab": {
          "base_uri": "https://localhost:8080/"
        },
        "id": "H0sU0IqR0JxR",
        "outputId": "604af244-cf49-4d59-a77c-0e01f2afbd37"
      },
      "source": [
        "for i in range(len(df)):\n",
        "  if df['PRES_NOTE'][i][:3] == '본운동':\n",
        "    df['PRES_NOTE'][i] = ' / '+ df['PRES_NOTE'][i]"
      ],
      "execution_count": 17,
      "outputs": [
        {
          "output_type": "stream",
          "name": "stderr",
          "text": [
            "/usr/local/lib/python3.7/dist-packages/ipykernel_launcher.py:3: SettingWithCopyWarning: \n",
            "A value is trying to be set on a copy of a slice from a DataFrame\n",
            "\n",
            "See the caveats in the documentation: https://pandas.pydata.org/pandas-docs/stable/user_guide/indexing.html#returning-a-view-versus-a-copy\n",
            "  This is separate from the ipykernel package so we can avoid doing imports until\n"
          ]
        }
      ]
    },
    {
      "cell_type": "code",
      "metadata": {
        "id": "iaYju4w-0LB-"
      },
      "source": [
        "df['준비운동'] = df.PRES_NOTE.str.split(' / ').str[0]\n",
        "df['본운동'] = df.PRES_NOTE.str.split(' / ').str[1]\n",
        "df['마무리운동'] = df.PRES_NOTE.str.split(' / ').str[2]"
      ],
      "execution_count": 18,
      "outputs": []
    },
    {
      "cell_type": "code",
      "metadata": {
        "id": "O7Qj_b3R0Meq"
      },
      "source": [
        "y_60_1 = df[df['TEST_AGE'] >= 60]['준비운동']\n",
        "y_60_2 = df[df['TEST_AGE'] >= 60]['본운동']\n",
        "y_60_3 = df[df['TEST_AGE'] >= 60]['마무리운동']\n"
      ],
      "execution_count": 21,
      "outputs": []
    },
    {
      "cell_type": "code",
      "metadata": {
        "colab": {
          "base_uri": "https://localhost:8080/"
        },
        "id": "vEehEsYM0dde",
        "outputId": "df1c440c-974b-4f64-92ce-1c334fce889b"
      },
      "source": [
        "y_60_1.value_counts()\n",
        "y_60_1[y_60_1 == '']= '준비운동:실내 자전거타기,트레드밀에서 걷기,전신 루틴 스트레칭,목 스트레칭,가슴/어깨 앞쪽 스트레칭'"
      ],
      "execution_count": 23,
      "outputs": [
        {
          "output_type": "stream",
          "name": "stderr",
          "text": [
            "/usr/local/lib/python3.7/dist-packages/pandas/core/series.py:1021: SettingWithCopyWarning: \n",
            "A value is trying to be set on a copy of a slice from a DataFrame\n",
            "\n",
            "See the caveats in the documentation: https://pandas.pydata.org/pandas-docs/stable/user_guide/indexing.html#returning-a-view-versus-a-copy\n",
            "  self._where(~key, value, inplace=True)\n"
          ]
        }
      ]
    },
    {
      "cell_type": "code",
      "metadata": {
        "colab": {
          "base_uri": "https://localhost:8080/"
        },
        "id": "rNRZn2gS0ftE",
        "outputId": "06f88132-0a2d-4f9a-80a4-c181bfd71207"
      },
      "source": [
        "y_60_2.value_counts()"
      ],
      "execution_count": 24,
      "outputs": [
        {
          "output_type": "execute_result",
          "data": {
            "text/plain": [
              "본운동:줄넘기,수영,엉덩관절 회전하기,무릎 높이 들어 뛰기,스텝퍼 뛰어서 오르내리기                                                                                                      17\n",
              "본운동:누워서 엉덩이 들어올리기,네발기기 자세로 팔 다리 들기,배스트레칭,엉덩이 스트레칭,넙다리 뒤쪽 스트레칭,넙다리 안쪽 스트레칭,트레드밀에서 걷기,실내 자전거타기,수영,계단 올라갔다 내려오기                                        15\n",
              "본운동:덤벨 잡고 앉았다 일어서기,덤벨 잡고 뒤꿈치 들기,목봉잡고 앉았다 일어나기,바벨 당겨 올리기,물통으로 양팔 들어올리기,앉아서 밴드 잡고 몸통 돌리기                                                              14\n",
              "본운동:허리 스트레칭,배스트레칭,옆구리 스트레칭,엉덩이 스트레칭,하지 루틴 스트레칭2,자가근막이완술 루틴 스트레칭                                                                                     13\n",
              "본운동:의자 앞에서 앉았다 일어서기,한발 앞으로 내밀고 앉았다 일어서기,팔굽혀펴기,앉아서 당겨 내리기,앉아서 뒤로 당기기,엎드려 버티기,누워서 다리 들어올리기,윗몸올리기 ,달리기                                                 11\n",
              "본운동:앉았다 일어서기,엎드려 팔다리 교차올리기,크런치 사이클,팔다리 교차 버티기,전완대고 버티기,누워 무릎 기울기,팔굽혀 펴기,팔꿈치 고정 후 벌리기                                                                 9\n",
              "본운동:의자에 앉아 다리 뻗어 올리기,탄력밴드 어깨 가쪽 돌림 ,짐볼에 다리 올리고 좌우로 움직이기,네발기기 자세로 팔 다리 들기,누워서 엉덩이 들어올리기,의자 앞에서 앉았다 일어서기                                               6\n",
              "본운동:목봉잡고 앉았다 일어나기,플렉스 바 비틀기,다리로 짐볼 들어올리기,의자에 앉아 등 굽혔다 펴기,수영,고정식 자전거 타기,엉덩이 스트레칭,엉덩이 스트레칭2,회전근개 스트레칭,골반 스트레칭,균형 걷기,짐볼 앉아 중심 잡기 루틴 운동,풍선차기,스카프 저글링     6\n",
              "본운동:전신 틀어 손벽 마주치기,가슴 스트레칭,무릎 아래에서 양옆으로 굴리기,등 스트레칭,어깨 올리기                                                                                             4\n",
              "본운동:앉아서 다리 밀기,앉아서 밀기,바벨들어올리기,앉았다 일어서기,앉았다 일어서기,팔굽혀펴기                                                                                                 4\n",
              "본운동:서서 바벨 위로 밀기,덤벨 옆으로 들어올리기,탄력밴드 어깨 가쪽 돌림 ,물병 옆으로 들어올리기                                                                                             4\n",
              "본운동:달리기,실내 자전거타기,트레드밀에서 걷기,줄넘기,수영,조깅,아쿠아로빅                                                                                                           3\n",
              "본운동:엎드려 버티기,옆으로 누워 버티기,누워서 엉덩이 들어올리기,누워서 배가로근 수축 I,누워서 배가로근 수축 II                                                                                    2\n",
              "본운동:몸통 옆으로 굽히기,앉았다 일어서기,윗몸올리기 ,엎드려 버티기                                                                                                               2\n",
              "본운동:앉았다 일어서기,의자에 한 다리 올리고 앉앗다 일어서기                                                                                                                   2\n",
              "본운동:앉아서 밴드 잡고 몸통 돌리기,앉아서 다리 밀기 ,덤벨 잡고 뒤꿈치 들기,앉아서 뒤로 당기기,물병 들고 한발 앞으로 내밀고 앉았다 일어서기,밴드 걸고 엎드려서 다리 구부리기,엎드려 양팔 및 다리 들어올리기                               2\n",
              "본운동:실외 자전거타기,트레드밀에서 걷기,계단 올라갔다 내려오기                                                                                                                  2\n",
              "본운동:스텝퍼 뛰어서 넘어가기,스텝퍼 올라가서 점프하여 착지하기,뛰어 내렸다가 바로 점프하기,사다리 안팎 뛰기,앉았다 일어서면서 점프하기,무릎 높여 제자리 달리기                                                           2\n",
              "본운동:누워서 전신 뻗기,깍지 끼고 상체 숙이기,양팔 벌려 전신 비틀기,넙다리 안쪽 스트레칭,몸통 앞으로 굽혀 걷기,대퇴사두근 스트레칭,내전근 스트레칭,비복근 스트레칭                                                        1\n",
              "본운동:계단 올라갔다 내려오기,앉아서 당겨 내리기,앉아서 뒤로 당기기,앉아서 몸통 움츠리기,매달려서 다리 들기,몸통 옆으로 굽히기,엎드려서 균형잡기,윗몸 말아 올리기,엎드려서 다리 차올리기,윗몸올리기                                      1\n",
              "본운동:넙다리 안쪽 스트레칭,하지 루틴 스트레칭1                                                                                                                          1\n",
              "본운동:실외 자전거타기,트레드밀에서 걷기,계단 올라갔다 내려오기,자전거타기                                                                                                            1\n",
              "본운동:계단 올라갔다 내려오기,수영                                                                                                                                  1\n",
              "본운동:덤벨 잡고 앉았다 일어서기,바벨 잡고 들어올리기,앉아서 다리 펴기,엎드려서 다리 굽히기 ,앉아서 다리 밀기 ,덤벨 잡고 뒤꿈치 들기,덤벨 잡고 한발 내밀어 굽혔다 펴기                                                    1\n",
              "본운동:아쿠아로빅,수영,고정식 트레드밀에서 걷기                                                                                                                           1\n",
              "본운동:달리기,트레드밀에서 걷기,줄넘기,계단 뛰어 오르기                                                                                                                      1\n",
              "본운동:허리 스트레칭,엉덩이 스트레칭,좌식생활자를 위한 동적 루틴 스트레칭 ,짐볼을 이용한 동적 루틴 스트레칭                                                                                        1\n",
              "본운동:밴드 걸고 옆으로 누워 다리 올리기,의자 앉아 다리로 짐볼 쥐기,밴드 잡고 누워서 다리 밀기                                                                                              1\n",
              "본운동:목봉잡고 앉았다 일어나기,플렉스 바 비틀기,다리로 짐볼 들어올리기,의자에 앉아 등 굽혔다 펴기,엉덩이 스트레칭,엉덩이 스트레칭2,회전근개 스트레칭,골반 스트레칭                                                        1\n",
              "본운동:손목 펴기/굽히기                                                                                                                                        1\n",
              "본운동:덤벨 잡고 앉았다 일어서기,덤벨 잡고 뒤꿈치 들기,목봉잡고 앉았다 일어나기,바벨 당겨 올리기,물통으로 양팔 들어올리기,앉아서 밴드 잡고 몸통 돌리기,넙다리 안쪽 스트레칭,몸통 앞으로 굽혀 걷기                                      1\n",
              "본운동:앞뒤로 한발씩 걷기,머리 위로 공 넘기기,스텝박스 오르내리기                                                                                                                1\n",
              "본운동:덤벨 잡고 앉았다 일어서기,덤벨 잡고 뒤꿈치 들기,목봉잡고 앉았다 일어나기,바벨 당겨 올리기,물통으로 양팔 들어올리기                                                                                1\n",
              "Name: 본운동, dtype: int64"
            ]
          },
          "metadata": {},
          "execution_count": 24
        }
      ]
    },
    {
      "cell_type": "code",
      "metadata": {
        "id": "6nhECC6K0whR"
      },
      "source": [
        "y_60_2 = y_60_2.fillna('본운동:줄넘기,수영,엉덩관절 회전하기,무릎 높이 들어 뛰기,스텝퍼 뛰어서 오르내리기')"
      ],
      "execution_count": 26,
      "outputs": []
    },
    {
      "cell_type": "code",
      "metadata": {
        "colab": {
          "base_uri": "https://localhost:8080/"
        },
        "id": "qSTCTw900uVn",
        "outputId": "940b27f7-d6f3-4fb7-c15d-6a9eb4f675fa"
      },
      "source": [
        "y_60_3.value_counts()"
      ],
      "execution_count": 25,
      "outputs": [
        {
          "output_type": "execute_result",
          "data": {
            "text/plain": [
              "마무리운동:자가근막이완술 루틴 스트레칭                                                   18\n",
              "마무리운동:하지 루틴 스트레칭1,허리 스트레칭,배스트레칭,좌식생활자를 위한 동적 루틴 스트레칭                    17\n",
              "마무리운동:깍지 끼고 상체 숙이기,어깨 뒤쪽 스트레칭,넙다리 앞쪽 스트레칭,대퇴사두근 스트레칭,고정식 자전거 타기         16\n",
              "마무리운동:전신 루틴 스트레칭,실내 자전거타기                                               13\n",
              "마무리운동:실내 자전거타기,허리 스트레칭,짐볼을 이용한 동적 루틴 스트레칭,자가근막이완술 루틴 스트레칭,전신 루틴 스트레칭     7\n",
              "마무리운동:전신 루틴 스트레칭                                                         5\n",
              "마무리운동:양발 나란히 서기,의자 이용 중심 잡기 루틴 운동,고정식 자전거 타기                             4\n",
              "마무리운동:발 닿기,몸 기울이기/회전하기                                                   4\n",
              "마무리운동:전신 루틴 스트레칭,트레드밀에서 걷기,자가근막이완술 루틴 스트레칭                               4\n",
              "마무리운동:엉덩이 스트레칭,넙다리 안쪽 스트레칭                                               3\n",
              "마무리운동:서서 다리로 탄력밴드 당기기 I,서서 다리로 탄력밴드 당기기 II                               2\n",
              "마무리운동:상지 루틴 스트레칭,전신 루틴 스트레칭,자가근막이완술 루틴 스트레칭                              2\n",
              "마무리운동:걷기,실내 자전거타기                                                        2\n",
              "마무리운동:걷기                                                                 2\n",
              "마무리운동:하지 루틴 스트레칭1,짐볼을 이용한 동적 루틴 스트레칭,자가근막이완술 루틴 스트레칭                     1\n",
              "마무리운동:하지 루틴 스트레칭1,전신 루틴 스트레칭                                             1\n",
              "마무리운동:실내 자전거타기                                                           1\n",
              "마무리운동:하지 루틴 스트레칭1,하지 루틴 스트레칭2,전신 루틴 스트레칭                                 1\n",
              "마무리운동:내전근 스트레칭,대퇴사두근 스트레칭                                                1\n",
              "마무리운동:아래 팔 스트레칭                                                          1\n",
              "마무리운동:넙다리 뒤쪽 스트레칭,넙다리 앞쪽 스트레칭,넙다리 안쪽 스트레칭,자가근막이완술 루틴 스트레칭                1\n",
              "Name: 마무리운동, dtype: int64"
            ]
          },
          "metadata": {},
          "execution_count": 25
        }
      ]
    },
    {
      "cell_type": "code",
      "metadata": {
        "id": "rs0tFWbU0vyU"
      },
      "source": [
        "y_60_3 = y_60_3.fillna('마무리운동:자가근막이완술 루틴 스트레칭')"
      ],
      "execution_count": 27,
      "outputs": []
    },
    {
      "cell_type": "code",
      "metadata": {
        "colab": {
          "base_uri": "https://localhost:8080/"
        },
        "id": "h_EIhsn_092Y",
        "outputId": "66294972-8896-4fae-eefe-03f90b7bcf06"
      },
      "source": [
        "model60_1 = LogisticRegression(C=10, max_iter=100).fit(X_60,y_60_1)\n",
        "model60_2 = LogisticRegression(C=10, max_iter=100).fit(X_60,y_60_2)\n",
        "model60_3 = LogisticRegression(C=10, max_iter=100).fit(X_60,y_60_3)"
      ],
      "execution_count": 29,
      "outputs": [
        {
          "output_type": "stream",
          "name": "stderr",
          "text": [
            "/usr/local/lib/python3.7/dist-packages/sklearn/linear_model/_logistic.py:940: ConvergenceWarning: lbfgs failed to converge (status=1):\n",
            "STOP: TOTAL NO. of ITERATIONS REACHED LIMIT.\n",
            "\n",
            "Increase the number of iterations (max_iter) or scale the data as shown in:\n",
            "    https://scikit-learn.org/stable/modules/preprocessing.html\n",
            "Please also refer to the documentation for alternative solver options:\n",
            "    https://scikit-learn.org/stable/modules/linear_model.html#logistic-regression\n",
            "  extra_warning_msg=_LOGISTIC_SOLVER_CONVERGENCE_MSG)\n",
            "/usr/local/lib/python3.7/dist-packages/sklearn/linear_model/_logistic.py:940: ConvergenceWarning: lbfgs failed to converge (status=1):\n",
            "STOP: TOTAL NO. of ITERATIONS REACHED LIMIT.\n",
            "\n",
            "Increase the number of iterations (max_iter) or scale the data as shown in:\n",
            "    https://scikit-learn.org/stable/modules/preprocessing.html\n",
            "Please also refer to the documentation for alternative solver options:\n",
            "    https://scikit-learn.org/stable/modules/linear_model.html#logistic-regression\n",
            "  extra_warning_msg=_LOGISTIC_SOLVER_CONVERGENCE_MSG)\n",
            "/usr/local/lib/python3.7/dist-packages/sklearn/linear_model/_logistic.py:940: ConvergenceWarning: lbfgs failed to converge (status=1):\n",
            "STOP: TOTAL NO. of ITERATIONS REACHED LIMIT.\n",
            "\n",
            "Increase the number of iterations (max_iter) or scale the data as shown in:\n",
            "    https://scikit-learn.org/stable/modules/preprocessing.html\n",
            "Please also refer to the documentation for alternative solver options:\n",
            "    https://scikit-learn.org/stable/modules/linear_model.html#logistic-regression\n",
            "  extra_warning_msg=_LOGISTIC_SOLVER_CONVERGENCE_MSG)\n"
          ]
        }
      ]
    },
    {
      "cell_type": "code",
      "metadata": {
        "colab": {
          "base_uri": "https://localhost:8080/"
        },
        "id": "_JJPeXlD1D26",
        "outputId": "eb8699dc-9cb9-4bdc-a987-044213580468"
      },
      "source": [
        "x = X_60.iloc[0]\n",
        "print(len(x))\n",
        "x = pd.DataFrame(x)\n",
        "x = x.transpose()"
      ],
      "execution_count": 30,
      "outputs": [
        {
          "output_type": "stream",
          "name": "stdout",
          "text": [
            "14\n"
          ]
        }
      ]
    },
    {
      "cell_type": "code",
      "metadata": {
        "colab": {
          "base_uri": "https://localhost:8080/"
        },
        "id": "hkM5pYWj1Jur",
        "outputId": "bf6dc587-91c8-4b4c-ef72-8a398bf77e81"
      },
      "source": [
        "print(model60_1.predict(x))\n",
        "print(model60_2.predict(x))\n",
        "print(model60_3.predict(x))"
      ],
      "execution_count": 32,
      "outputs": [
        {
          "output_type": "stream",
          "name": "stdout",
          "text": [
            "['준비운동:등/어깨 뒤쪽 스트레칭,가슴/어깨 앞쪽 스트레칭,허리 스트레칭,엉덩이 스트레칭,넙다리 뒤쪽 스트레칭,넙다리 앞쪽 스트레칭']\n",
            "['본운동:스텝퍼 뛰어서 넘어가기,스텝퍼 올라가서 점프하여 착지하기,뛰어 내렸다가 바로 점프하기,사다리 안팎 뛰기,앉았다 일어서면서 점프하기,무릎 높여 제자리 달리기']\n",
            "['마무리운동:하지 루틴 스트레칭1,허리 스트레칭,배스트레칭,좌식생활자를 위한 동적 루틴 스트레칭 ']\n"
          ]
        }
      ]
    },
    {
      "cell_type": "code",
      "metadata": {
        "id": "7kVTzmuw1K4M"
      },
      "source": [
        ""
      ],
      "execution_count": null,
      "outputs": []
    }
  ]
}