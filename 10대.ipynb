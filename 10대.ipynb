{
  "nbformat": 4,
  "nbformat_minor": 0,
  "metadata": {
    "colab": {
      "name": "10대.ipynb",
      "provenance": [],
      "authorship_tag": "ABX9TyOdBPaNnN0ZLSpicO3kqzAY",
      "include_colab_link": true
    },
    "kernelspec": {
      "name": "python3",
      "display_name": "Python 3"
    },
    "language_info": {
      "name": "python"
    }
  },
  "cells": [
    {
      "cell_type": "markdown",
      "metadata": {
        "id": "view-in-github",
        "colab_type": "text"
      },
      "source": [
        "<a href=\"https://colab.research.google.com/github/LEECHANGDAEE/gj_proj/blob/main/10%EB%8C%80.ipynb\" target=\"_parent\"><img src=\"https://colab.research.google.com/assets/colab-badge.svg\" alt=\"Open In Colab\"/></a>"
      ]
    },
    {
      "cell_type": "code",
      "metadata": {
        "colab": {
          "base_uri": "https://localhost:8080/"
        },
        "id": "WQ4J9gqGjqFN",
        "outputId": "5e5d7e11-ba61-4eeb-c68e-bf64d0b236b3"
      },
      "source": [
        "!pip install mglearn"
      ],
      "execution_count": 125,
      "outputs": [
        {
          "output_type": "stream",
          "name": "stdout",
          "text": [
            "Requirement already satisfied: mglearn in /usr/local/lib/python3.7/dist-packages (0.1.9)\n",
            "Requirement already satisfied: scikit-learn in /usr/local/lib/python3.7/dist-packages (from mglearn) (0.22.2.post1)\n",
            "Requirement already satisfied: imageio in /usr/local/lib/python3.7/dist-packages (from mglearn) (2.4.1)\n",
            "Requirement already satisfied: matplotlib in /usr/local/lib/python3.7/dist-packages (from mglearn) (3.2.2)\n",
            "Requirement already satisfied: numpy in /usr/local/lib/python3.7/dist-packages (from mglearn) (1.19.5)\n",
            "Requirement already satisfied: pandas in /usr/local/lib/python3.7/dist-packages (from mglearn) (1.1.5)\n",
            "Requirement already satisfied: joblib in /usr/local/lib/python3.7/dist-packages (from mglearn) (1.0.1)\n",
            "Requirement already satisfied: cycler in /usr/local/lib/python3.7/dist-packages (from mglearn) (0.10.0)\n",
            "Requirement already satisfied: pillow in /usr/local/lib/python3.7/dist-packages (from mglearn) (7.1.2)\n",
            "Requirement already satisfied: six in /usr/local/lib/python3.7/dist-packages (from cycler->mglearn) (1.15.0)\n",
            "Requirement already satisfied: pyparsing!=2.0.4,!=2.1.2,!=2.1.6,>=2.0.1 in /usr/local/lib/python3.7/dist-packages (from matplotlib->mglearn) (2.4.7)\n",
            "Requirement already satisfied: python-dateutil>=2.1 in /usr/local/lib/python3.7/dist-packages (from matplotlib->mglearn) (2.8.2)\n",
            "Requirement already satisfied: kiwisolver>=1.0.1 in /usr/local/lib/python3.7/dist-packages (from matplotlib->mglearn) (1.3.2)\n",
            "Requirement already satisfied: pytz>=2017.2 in /usr/local/lib/python3.7/dist-packages (from pandas->mglearn) (2018.9)\n",
            "Requirement already satisfied: scipy>=0.17.0 in /usr/local/lib/python3.7/dist-packages (from scikit-learn->mglearn) (1.4.1)\n"
          ]
        }
      ]
    },
    {
      "cell_type": "code",
      "metadata": {
        "id": "nDg06d9KikJI"
      },
      "source": [
        "import numpy as np\n",
        "import pandas as pd\n",
        "import csv\n",
        "import matplotlib.pyplot as plt\n",
        "import seaborn as sns\n",
        "from sklearn.linear_model import LogisticRegression\n",
        "import mglearn"
      ],
      "execution_count": 126,
      "outputs": []
    },
    {
      "cell_type": "code",
      "metadata": {
        "colab": {
          "base_uri": "https://localhost:8080/",
          "height": 1000
        },
        "id": "PZyn0_n8ir5F",
        "outputId": "2b299f02-8c62-473f-825e-b6b6f47e2186"
      },
      "source": [
        "df = pd.read_csv('DATA_P.csv', encoding='utf-8')\n",
        "df"
      ],
      "execution_count": 127,
      "outputs": [
        {
          "output_type": "execute_result",
          "data": {
            "text/html": [
              "<div>\n",
              "<style scoped>\n",
              "    .dataframe tbody tr th:only-of-type {\n",
              "        vertical-align: middle;\n",
              "    }\n",
              "\n",
              "    .dataframe tbody tr th {\n",
              "        vertical-align: top;\n",
              "    }\n",
              "\n",
              "    .dataframe thead th {\n",
              "        text-align: right;\n",
              "    }\n",
              "</style>\n",
              "<table border=\"1\" class=\"dataframe\">\n",
              "  <thead>\n",
              "    <tr style=\"text-align: right;\">\n",
              "      <th></th>\n",
              "      <th>TEST_CNT</th>\n",
              "      <th>CENTER_NM</th>\n",
              "      <th>AGE_GBN</th>\n",
              "      <th>TEST_GBN</th>\n",
              "      <th>TEST_AGE</th>\n",
              "      <th>INPUT_GBN</th>\n",
              "      <th>CERT_GBN</th>\n",
              "      <th>TEST_YMD</th>\n",
              "      <th>TEST_SEX</th>\n",
              "      <th>ITEM_F001</th>\n",
              "      <th>ITEM_F002</th>\n",
              "      <th>ITEM_F003</th>\n",
              "      <th>ITEM_F004</th>\n",
              "      <th>ITEM_F005</th>\n",
              "      <th>ITEM_F006</th>\n",
              "      <th>ITEM_F007</th>\n",
              "      <th>ITEM_F008</th>\n",
              "      <th>ITEM_F009</th>\n",
              "      <th>ITEM_F010</th>\n",
              "      <th>ITEM_F011</th>\n",
              "      <th>ITEM_F012</th>\n",
              "      <th>ITEM_F013</th>\n",
              "      <th>ITEM_F014</th>\n",
              "      <th>ITEM_F015</th>\n",
              "      <th>ITEM_F016</th>\n",
              "      <th>ITEM_F017</th>\n",
              "      <th>ITEM_F018</th>\n",
              "      <th>ITEM_F019</th>\n",
              "      <th>ITEM_F020</th>\n",
              "      <th>ITEM_F021</th>\n",
              "      <th>ITEM_F022</th>\n",
              "      <th>ITEM_F023</th>\n",
              "      <th>ITEM_F024</th>\n",
              "      <th>ITEM_F025</th>\n",
              "      <th>ITEM_F026</th>\n",
              "      <th>ITEM_F027</th>\n",
              "      <th>ITEM_F028</th>\n",
              "      <th>ITEM_F029</th>\n",
              "      <th>ITEM_F030</th>\n",
              "      <th>ITEM_F031</th>\n",
              "      <th>ITEM_F032</th>\n",
              "      <th>ITEM_F033</th>\n",
              "      <th>ITEM_F034</th>\n",
              "      <th>ITEM_F035</th>\n",
              "      <th>ITEM_F036</th>\n",
              "      <th>ITEM_F037</th>\n",
              "      <th>ITEM_F038</th>\n",
              "      <th>ITEM_F039</th>\n",
              "      <th>ITEM_F040</th>\n",
              "      <th>ITEM_F041</th>\n",
              "      <th>PRES_NOTE</th>\n",
              "    </tr>\n",
              "  </thead>\n",
              "  <tbody>\n",
              "    <tr>\n",
              "      <th>0</th>\n",
              "      <td>1</td>\n",
              "      <td>KSPO광주</td>\n",
              "      <td>청소년</td>\n",
              "      <td>일반</td>\n",
              "      <td>18</td>\n",
              "      <td>관리자</td>\n",
              "      <td>2등급</td>\n",
              "      <td>20210113</td>\n",
              "      <td>M</td>\n",
              "      <td>173.8</td>\n",
              "      <td>65.6</td>\n",
              "      <td>17.8</td>\n",
              "      <td>79.7</td>\n",
              "      <td>77.0</td>\n",
              "      <td>117.0</td>\n",
              "      <td>30.6</td>\n",
              "      <td>40.0</td>\n",
              "      <td>NaN</td>\n",
              "      <td>50.0</td>\n",
              "      <td>NaN</td>\n",
              "      <td>13.7</td>\n",
              "      <td>20.29</td>\n",
              "      <td>0.558</td>\n",
              "      <td>46.025</td>\n",
              "      <td>13.0</td>\n",
              "      <td>46.623</td>\n",
              "      <td>21.7</td>\n",
              "      <td>NaN</td>\n",
              "      <td>NaN</td>\n",
              "      <td>NaN</td>\n",
              "      <td>NaN</td>\n",
              "      <td>NaN</td>\n",
              "      <td>NaN</td>\n",
              "      <td>NaN</td>\n",
              "      <td>NaN</td>\n",
              "      <td>NaN</td>\n",
              "      <td>60.9</td>\n",
              "      <td>NaN</td>\n",
              "      <td>NaN</td>\n",
              "      <td>88.0</td>\n",
              "      <td>120.0</td>\n",
              "      <td>147.0</td>\n",
              "      <td>NaN</td>\n",
              "      <td>46.3</td>\n",
              "      <td>NaN</td>\n",
              "      <td>NaN</td>\n",
              "      <td>NaN</td>\n",
              "      <td>NaN</td>\n",
              "      <td>NaN</td>\n",
              "      <td>NaN</td>\n",
              "      <td>준비운동:걷기,정적 스트레칭  루틴프로그램 / 본운동:몸통 들어올리기,누워 다리 들...</td>\n",
              "    </tr>\n",
              "    <tr>\n",
              "      <th>1</th>\n",
              "      <td>1</td>\n",
              "      <td>KSPO광주</td>\n",
              "      <td>청소년</td>\n",
              "      <td>일반</td>\n",
              "      <td>18</td>\n",
              "      <td>NaN</td>\n",
              "      <td>3등급</td>\n",
              "      <td>20210115</td>\n",
              "      <td>M</td>\n",
              "      <td>170.5</td>\n",
              "      <td>66.1</td>\n",
              "      <td>15.6</td>\n",
              "      <td>77.0</td>\n",
              "      <td>72.0</td>\n",
              "      <td>128.0</td>\n",
              "      <td>40.1</td>\n",
              "      <td>46.3</td>\n",
              "      <td>NaN</td>\n",
              "      <td>49.0</td>\n",
              "      <td>NaN</td>\n",
              "      <td>8.2</td>\n",
              "      <td>18.96</td>\n",
              "      <td>0.648</td>\n",
              "      <td>46.462</td>\n",
              "      <td>8.0</td>\n",
              "      <td>46.830</td>\n",
              "      <td>22.7</td>\n",
              "      <td>NaN</td>\n",
              "      <td>NaN</td>\n",
              "      <td>NaN</td>\n",
              "      <td>NaN</td>\n",
              "      <td>NaN</td>\n",
              "      <td>NaN</td>\n",
              "      <td>NaN</td>\n",
              "      <td>NaN</td>\n",
              "      <td>NaN</td>\n",
              "      <td>70.0</td>\n",
              "      <td>NaN</td>\n",
              "      <td>NaN</td>\n",
              "      <td>99.0</td>\n",
              "      <td>124.0</td>\n",
              "      <td>146.0</td>\n",
              "      <td>NaN</td>\n",
              "      <td>46.2</td>\n",
              "      <td>NaN</td>\n",
              "      <td>NaN</td>\n",
              "      <td>NaN</td>\n",
              "      <td>NaN</td>\n",
              "      <td>NaN</td>\n",
              "      <td>NaN</td>\n",
              "      <td>준비운동:목 스트레칭,등/어깨 뒤쪽 스트레칭,가슴/어깨 앞쪽 스트레칭,옆구리 스트레...</td>\n",
              "    </tr>\n",
              "    <tr>\n",
              "      <th>2</th>\n",
              "      <td>1</td>\n",
              "      <td>KSPO광주</td>\n",
              "      <td>청소년</td>\n",
              "      <td>일반</td>\n",
              "      <td>18</td>\n",
              "      <td>관리자</td>\n",
              "      <td>참가증</td>\n",
              "      <td>20210107</td>\n",
              "      <td>M</td>\n",
              "      <td>170.3</td>\n",
              "      <td>79.5</td>\n",
              "      <td>27.0</td>\n",
              "      <td>89.0</td>\n",
              "      <td>94.0</td>\n",
              "      <td>137.0</td>\n",
              "      <td>31.3</td>\n",
              "      <td>35.9</td>\n",
              "      <td>NaN</td>\n",
              "      <td>42.0</td>\n",
              "      <td>NaN</td>\n",
              "      <td>6.2</td>\n",
              "      <td>17.76</td>\n",
              "      <td>0.552</td>\n",
              "      <td>43.977</td>\n",
              "      <td>5.0</td>\n",
              "      <td>44.207</td>\n",
              "      <td>27.4</td>\n",
              "      <td>NaN</td>\n",
              "      <td>NaN</td>\n",
              "      <td>NaN</td>\n",
              "      <td>NaN</td>\n",
              "      <td>NaN</td>\n",
              "      <td>NaN</td>\n",
              "      <td>NaN</td>\n",
              "      <td>NaN</td>\n",
              "      <td>NaN</td>\n",
              "      <td>45.1</td>\n",
              "      <td>NaN</td>\n",
              "      <td>NaN</td>\n",
              "      <td>90.0</td>\n",
              "      <td>124.0</td>\n",
              "      <td>144.0</td>\n",
              "      <td>NaN</td>\n",
              "      <td>43.3</td>\n",
              "      <td>NaN</td>\n",
              "      <td>NaN</td>\n",
              "      <td>NaN</td>\n",
              "      <td>NaN</td>\n",
              "      <td>NaN</td>\n",
              "      <td>NaN</td>\n",
              "      <td>준비운동:걷기,조깅,자전거타기 / 본운동:상체 앞으로 숙이기,다리들어 옆으로 올리기...</td>\n",
              "    </tr>\n",
              "    <tr>\n",
              "      <th>3</th>\n",
              "      <td>2</td>\n",
              "      <td>KSPO광주</td>\n",
              "      <td>청소년</td>\n",
              "      <td>일반</td>\n",
              "      <td>18</td>\n",
              "      <td>NaN</td>\n",
              "      <td>2등급</td>\n",
              "      <td>20210109</td>\n",
              "      <td>M</td>\n",
              "      <td>166.5</td>\n",
              "      <td>60.3</td>\n",
              "      <td>20.2</td>\n",
              "      <td>78.0</td>\n",
              "      <td>88.0</td>\n",
              "      <td>135.0</td>\n",
              "      <td>35.7</td>\n",
              "      <td>34.4</td>\n",
              "      <td>NaN</td>\n",
              "      <td>56.0</td>\n",
              "      <td>NaN</td>\n",
              "      <td>12.8</td>\n",
              "      <td>18.26</td>\n",
              "      <td>0.585</td>\n",
              "      <td>44.306</td>\n",
              "      <td>12.0</td>\n",
              "      <td>44.858</td>\n",
              "      <td>21.8</td>\n",
              "      <td>NaN</td>\n",
              "      <td>NaN</td>\n",
              "      <td>NaN</td>\n",
              "      <td>NaN</td>\n",
              "      <td>NaN</td>\n",
              "      <td>NaN</td>\n",
              "      <td>NaN</td>\n",
              "      <td>NaN</td>\n",
              "      <td>NaN</td>\n",
              "      <td>59.2</td>\n",
              "      <td>NaN</td>\n",
              "      <td>NaN</td>\n",
              "      <td>NaN</td>\n",
              "      <td>NaN</td>\n",
              "      <td>NaN</td>\n",
              "      <td>NaN</td>\n",
              "      <td>NaN</td>\n",
              "      <td>144.0</td>\n",
              "      <td>48.5</td>\n",
              "      <td>NaN</td>\n",
              "      <td>NaN</td>\n",
              "      <td>NaN</td>\n",
              "      <td>NaN</td>\n",
              "      <td>준비운동:전신 루틴 스트레칭 / 본운동:의자 앞에서 앉았다 일어서기,한발 앞으로 내...</td>\n",
              "    </tr>\n",
              "    <tr>\n",
              "      <th>4</th>\n",
              "      <td>6</td>\n",
              "      <td>KSPO광주</td>\n",
              "      <td>청소년</td>\n",
              "      <td>일반</td>\n",
              "      <td>18</td>\n",
              "      <td>NaN</td>\n",
              "      <td>3등급</td>\n",
              "      <td>20210102</td>\n",
              "      <td>M</td>\n",
              "      <td>185.1</td>\n",
              "      <td>85.9</td>\n",
              "      <td>15.8</td>\n",
              "      <td>86.5</td>\n",
              "      <td>71.0</td>\n",
              "      <td>130.0</td>\n",
              "      <td>40.3</td>\n",
              "      <td>44.1</td>\n",
              "      <td>50.0</td>\n",
              "      <td>NaN</td>\n",
              "      <td>NaN</td>\n",
              "      <td>7.9</td>\n",
              "      <td>18.20</td>\n",
              "      <td>0.599</td>\n",
              "      <td>42.772</td>\n",
              "      <td>13.0</td>\n",
              "      <td>43.370</td>\n",
              "      <td>25.1</td>\n",
              "      <td>NaN</td>\n",
              "      <td>NaN</td>\n",
              "      <td>NaN</td>\n",
              "      <td>NaN</td>\n",
              "      <td>NaN</td>\n",
              "      <td>NaN</td>\n",
              "      <td>NaN</td>\n",
              "      <td>NaN</td>\n",
              "      <td>NaN</td>\n",
              "      <td>51.3</td>\n",
              "      <td>NaN</td>\n",
              "      <td>NaN</td>\n",
              "      <td>93.0</td>\n",
              "      <td>117.0</td>\n",
              "      <td>140.0</td>\n",
              "      <td>NaN</td>\n",
              "      <td>45.1</td>\n",
              "      <td>NaN</td>\n",
              "      <td>NaN</td>\n",
              "      <td>NaN</td>\n",
              "      <td>NaN</td>\n",
              "      <td>NaN</td>\n",
              "      <td>NaN</td>\n",
              "      <td>준비운동:목 스트레칭,등/어깨 뒤쪽 스트레칭,가슴/어깨 앞쪽 스트레칭,옆구리 스트레...</td>\n",
              "    </tr>\n",
              "    <tr>\n",
              "      <th>...</th>\n",
              "      <td>...</td>\n",
              "      <td>...</td>\n",
              "      <td>...</td>\n",
              "      <td>...</td>\n",
              "      <td>...</td>\n",
              "      <td>...</td>\n",
              "      <td>...</td>\n",
              "      <td>...</td>\n",
              "      <td>...</td>\n",
              "      <td>...</td>\n",
              "      <td>...</td>\n",
              "      <td>...</td>\n",
              "      <td>...</td>\n",
              "      <td>...</td>\n",
              "      <td>...</td>\n",
              "      <td>...</td>\n",
              "      <td>...</td>\n",
              "      <td>...</td>\n",
              "      <td>...</td>\n",
              "      <td>...</td>\n",
              "      <td>...</td>\n",
              "      <td>...</td>\n",
              "      <td>...</td>\n",
              "      <td>...</td>\n",
              "      <td>...</td>\n",
              "      <td>...</td>\n",
              "      <td>...</td>\n",
              "      <td>...</td>\n",
              "      <td>...</td>\n",
              "      <td>...</td>\n",
              "      <td>...</td>\n",
              "      <td>...</td>\n",
              "      <td>...</td>\n",
              "      <td>...</td>\n",
              "      <td>...</td>\n",
              "      <td>...</td>\n",
              "      <td>...</td>\n",
              "      <td>...</td>\n",
              "      <td>...</td>\n",
              "      <td>...</td>\n",
              "      <td>...</td>\n",
              "      <td>...</td>\n",
              "      <td>...</td>\n",
              "      <td>...</td>\n",
              "      <td>...</td>\n",
              "      <td>...</td>\n",
              "      <td>...</td>\n",
              "      <td>...</td>\n",
              "      <td>...</td>\n",
              "      <td>...</td>\n",
              "      <td>...</td>\n",
              "    </tr>\n",
              "    <tr>\n",
              "      <th>1426</th>\n",
              "      <td>1</td>\n",
              "      <td>KSPO광주</td>\n",
              "      <td>성인</td>\n",
              "      <td>일반</td>\n",
              "      <td>60</td>\n",
              "      <td>관리자</td>\n",
              "      <td>참가증</td>\n",
              "      <td>20201015</td>\n",
              "      <td>M</td>\n",
              "      <td>164.6</td>\n",
              "      <td>78.4</td>\n",
              "      <td>34.3</td>\n",
              "      <td>105.0</td>\n",
              "      <td>77.0</td>\n",
              "      <td>135.0</td>\n",
              "      <td>36.8</td>\n",
              "      <td>39.7</td>\n",
              "      <td>NaN</td>\n",
              "      <td>NaN</td>\n",
              "      <td>NaN</td>\n",
              "      <td>-8.4</td>\n",
              "      <td>NaN</td>\n",
              "      <td>NaN</td>\n",
              "      <td>NaN</td>\n",
              "      <td>NaN</td>\n",
              "      <td>NaN</td>\n",
              "      <td>28.9</td>\n",
              "      <td>15.0</td>\n",
              "      <td>20.0</td>\n",
              "      <td>14.47</td>\n",
              "      <td>174.0</td>\n",
              "      <td>NaN</td>\n",
              "      <td>NaN</td>\n",
              "      <td>NaN</td>\n",
              "      <td>NaN</td>\n",
              "      <td>NaN</td>\n",
              "      <td>50.6</td>\n",
              "      <td>NaN</td>\n",
              "      <td>33.5</td>\n",
              "      <td>NaN</td>\n",
              "      <td>NaN</td>\n",
              "      <td>NaN</td>\n",
              "      <td>NaN</td>\n",
              "      <td>NaN</td>\n",
              "      <td>NaN</td>\n",
              "      <td>NaN</td>\n",
              "      <td>NaN</td>\n",
              "      <td>NaN</td>\n",
              "      <td>NaN</td>\n",
              "      <td>NaN</td>\n",
              "      <td>준비운동:하지 루틴 스트레칭1,전신 루틴 스트레칭 / 본운동:실외 자전거타기,트레드...</td>\n",
              "    </tr>\n",
              "    <tr>\n",
              "      <th>1427</th>\n",
              "      <td>1</td>\n",
              "      <td>KSPO광주</td>\n",
              "      <td>성인</td>\n",
              "      <td>일반</td>\n",
              "      <td>60</td>\n",
              "      <td>NaN</td>\n",
              "      <td>3등급</td>\n",
              "      <td>20201016</td>\n",
              "      <td>M</td>\n",
              "      <td>166.1</td>\n",
              "      <td>67.3</td>\n",
              "      <td>26.1</td>\n",
              "      <td>91.0</td>\n",
              "      <td>74.0</td>\n",
              "      <td>139.0</td>\n",
              "      <td>32.1</td>\n",
              "      <td>24.9</td>\n",
              "      <td>NaN</td>\n",
              "      <td>NaN</td>\n",
              "      <td>NaN</td>\n",
              "      <td>11.2</td>\n",
              "      <td>NaN</td>\n",
              "      <td>NaN</td>\n",
              "      <td>NaN</td>\n",
              "      <td>NaN</td>\n",
              "      <td>NaN</td>\n",
              "      <td>24.4</td>\n",
              "      <td>26.0</td>\n",
              "      <td>NaN</td>\n",
              "      <td>NaN</td>\n",
              "      <td>146.0</td>\n",
              "      <td>NaN</td>\n",
              "      <td>NaN</td>\n",
              "      <td>NaN</td>\n",
              "      <td>NaN</td>\n",
              "      <td>NaN</td>\n",
              "      <td>47.6</td>\n",
              "      <td>NaN</td>\n",
              "      <td>NaN</td>\n",
              "      <td>NaN</td>\n",
              "      <td>NaN</td>\n",
              "      <td>NaN</td>\n",
              "      <td>NaN</td>\n",
              "      <td>NaN</td>\n",
              "      <td>72.0</td>\n",
              "      <td>43.1</td>\n",
              "      <td>NaN</td>\n",
              "      <td>NaN</td>\n",
              "      <td>0.421</td>\n",
              "      <td>NaN</td>\n",
              "      <td>준비운동:걷기,실내 자전거타기 / 본운동:손목 펴기/굽히기 / 마무리운동:아래 팔 ...</td>\n",
              "    </tr>\n",
              "    <tr>\n",
              "      <th>1428</th>\n",
              "      <td>1</td>\n",
              "      <td>KSPO광주</td>\n",
              "      <td>성인</td>\n",
              "      <td>일반</td>\n",
              "      <td>61</td>\n",
              "      <td>NaN</td>\n",
              "      <td>2등급</td>\n",
              "      <td>20201016</td>\n",
              "      <td>M</td>\n",
              "      <td>160.0</td>\n",
              "      <td>70.8</td>\n",
              "      <td>30.5</td>\n",
              "      <td>88.0</td>\n",
              "      <td>79.0</td>\n",
              "      <td>147.0</td>\n",
              "      <td>40.4</td>\n",
              "      <td>39.0</td>\n",
              "      <td>NaN</td>\n",
              "      <td>NaN</td>\n",
              "      <td>NaN</td>\n",
              "      <td>13.0</td>\n",
              "      <td>NaN</td>\n",
              "      <td>NaN</td>\n",
              "      <td>NaN</td>\n",
              "      <td>NaN</td>\n",
              "      <td>NaN</td>\n",
              "      <td>27.7</td>\n",
              "      <td>28.0</td>\n",
              "      <td>NaN</td>\n",
              "      <td>13.71</td>\n",
              "      <td>177.0</td>\n",
              "      <td>NaN</td>\n",
              "      <td>NaN</td>\n",
              "      <td>NaN</td>\n",
              "      <td>NaN</td>\n",
              "      <td>NaN</td>\n",
              "      <td>57.0</td>\n",
              "      <td>NaN</td>\n",
              "      <td>NaN</td>\n",
              "      <td>NaN</td>\n",
              "      <td>NaN</td>\n",
              "      <td>NaN</td>\n",
              "      <td>NaN</td>\n",
              "      <td>NaN</td>\n",
              "      <td>101.0</td>\n",
              "      <td>37.3</td>\n",
              "      <td>NaN</td>\n",
              "      <td>NaN</td>\n",
              "      <td>NaN</td>\n",
              "      <td>NaN</td>\n",
              "      <td>준비운동:하지 루틴 스트레칭1,전신 루틴 스트레칭 / 본운동:실외 자전거타기,트레드...</td>\n",
              "    </tr>\n",
              "    <tr>\n",
              "      <th>1429</th>\n",
              "      <td>1</td>\n",
              "      <td>KSPO광주</td>\n",
              "      <td>노인</td>\n",
              "      <td>일반</td>\n",
              "      <td>65</td>\n",
              "      <td>NaN</td>\n",
              "      <td>참가증</td>\n",
              "      <td>20201022</td>\n",
              "      <td>M</td>\n",
              "      <td>161.5</td>\n",
              "      <td>66.2</td>\n",
              "      <td>17.3</td>\n",
              "      <td>85.0</td>\n",
              "      <td>89.0</td>\n",
              "      <td>159.0</td>\n",
              "      <td>40.6</td>\n",
              "      <td>0.0</td>\n",
              "      <td>NaN</td>\n",
              "      <td>NaN</td>\n",
              "      <td>NaN</td>\n",
              "      <td>5.6</td>\n",
              "      <td>NaN</td>\n",
              "      <td>NaN</td>\n",
              "      <td>NaN</td>\n",
              "      <td>NaN</td>\n",
              "      <td>NaN</td>\n",
              "      <td>25.4</td>\n",
              "      <td>NaN</td>\n",
              "      <td>NaN</td>\n",
              "      <td>NaN</td>\n",
              "      <td>NaN</td>\n",
              "      <td>19.0</td>\n",
              "      <td>497.0</td>\n",
              "      <td>NaN</td>\n",
              "      <td>6.18</td>\n",
              "      <td>27.70</td>\n",
              "      <td>61.3</td>\n",
              "      <td>NaN</td>\n",
              "      <td>NaN</td>\n",
              "      <td>NaN</td>\n",
              "      <td>NaN</td>\n",
              "      <td>NaN</td>\n",
              "      <td>NaN</td>\n",
              "      <td>NaN</td>\n",
              "      <td>NaN</td>\n",
              "      <td>NaN</td>\n",
              "      <td>NaN</td>\n",
              "      <td>NaN</td>\n",
              "      <td>NaN</td>\n",
              "      <td>NaN</td>\n",
              "      <td>본운동:앞뒤로 한발씩 걷기,머리 위로 공 넘기기,스텝박스 오르내리기</td>\n",
              "    </tr>\n",
              "    <tr>\n",
              "      <th>1430</th>\n",
              "      <td>1</td>\n",
              "      <td>KSPO광주</td>\n",
              "      <td>노인</td>\n",
              "      <td>일반</td>\n",
              "      <td>69</td>\n",
              "      <td>NaN</td>\n",
              "      <td>참가증</td>\n",
              "      <td>20201021</td>\n",
              "      <td>M</td>\n",
              "      <td>166.0</td>\n",
              "      <td>72.7</td>\n",
              "      <td>26.1</td>\n",
              "      <td>93.0</td>\n",
              "      <td>82.0</td>\n",
              "      <td>139.0</td>\n",
              "      <td>44.1</td>\n",
              "      <td>46.2</td>\n",
              "      <td>NaN</td>\n",
              "      <td>NaN</td>\n",
              "      <td>NaN</td>\n",
              "      <td>4.0</td>\n",
              "      <td>NaN</td>\n",
              "      <td>NaN</td>\n",
              "      <td>NaN</td>\n",
              "      <td>NaN</td>\n",
              "      <td>NaN</td>\n",
              "      <td>26.4</td>\n",
              "      <td>NaN</td>\n",
              "      <td>NaN</td>\n",
              "      <td>NaN</td>\n",
              "      <td>NaN</td>\n",
              "      <td>21.0</td>\n",
              "      <td>NaN</td>\n",
              "      <td>96.0</td>\n",
              "      <td>4.90</td>\n",
              "      <td>26.37</td>\n",
              "      <td>63.5</td>\n",
              "      <td>NaN</td>\n",
              "      <td>NaN</td>\n",
              "      <td>NaN</td>\n",
              "      <td>NaN</td>\n",
              "      <td>NaN</td>\n",
              "      <td>NaN</td>\n",
              "      <td>NaN</td>\n",
              "      <td>NaN</td>\n",
              "      <td>NaN</td>\n",
              "      <td>NaN</td>\n",
              "      <td>NaN</td>\n",
              "      <td>NaN</td>\n",
              "      <td>NaN</td>\n",
              "      <td>준비운동:몸통 앞으로 굽혀 걷기,발가락 폄근 스트레칭,고정식 자전거 타기 / 본운동...</td>\n",
              "    </tr>\n",
              "  </tbody>\n",
              "</table>\n",
              "<p>1431 rows × 51 columns</p>\n",
              "</div>"
            ],
            "text/plain": [
              "      TEST_CNT  ...                                          PRES_NOTE\n",
              "0            1  ...  준비운동:걷기,정적 스트레칭  루틴프로그램 / 본운동:몸통 들어올리기,누워 다리 들...\n",
              "1            1  ...  준비운동:목 스트레칭,등/어깨 뒤쪽 스트레칭,가슴/어깨 앞쪽 스트레칭,옆구리 스트레...\n",
              "2            1  ...  준비운동:걷기,조깅,자전거타기 / 본운동:상체 앞으로 숙이기,다리들어 옆으로 올리기...\n",
              "3            2  ...  준비운동:전신 루틴 스트레칭 / 본운동:의자 앞에서 앉았다 일어서기,한발 앞으로 내...\n",
              "4            6  ...  준비운동:목 스트레칭,등/어깨 뒤쪽 스트레칭,가슴/어깨 앞쪽 스트레칭,옆구리 스트레...\n",
              "...        ...  ...                                                ...\n",
              "1426         1  ...  준비운동:하지 루틴 스트레칭1,전신 루틴 스트레칭 / 본운동:실외 자전거타기,트레드...\n",
              "1427         1  ...  준비운동:걷기,실내 자전거타기 / 본운동:손목 펴기/굽히기 / 마무리운동:아래 팔 ...\n",
              "1428         1  ...  준비운동:하지 루틴 스트레칭1,전신 루틴 스트레칭 / 본운동:실외 자전거타기,트레드...\n",
              "1429         1  ...             본운동:앞뒤로 한발씩 걷기,머리 위로 공 넘기기,스텝박스 오르내리기 \n",
              "1430         1  ...  준비운동:몸통 앞으로 굽혀 걷기,발가락 폄근 스트레칭,고정식 자전거 타기 / 본운동...\n",
              "\n",
              "[1431 rows x 51 columns]"
            ]
          },
          "metadata": {},
          "execution_count": 127
        }
      ]
    },
    {
      "cell_type": "code",
      "metadata": {
        "id": "gXwQv6-Kiwt5"
      },
      "source": [
        "df_1 = df.drop(['TEST_CNT','AGE_GBN','CENTER_NM','TEST_GBN','INPUT_GBN','CERT_GBN','TEST_YMD','PRES_NOTE','ITEM_F011','ITEM_F029','ITEM_F038','ITEM_F039'],axis=1)\n"
      ],
      "execution_count": 128,
      "outputs": []
    },
    {
      "cell_type": "code",
      "metadata": {
        "id": "MXhOLka9i2vZ"
      },
      "source": [
        "df_10 = df_1[df_1['TEST_AGE'] < 20]"
      ],
      "execution_count": 129,
      "outputs": []
    },
    {
      "cell_type": "code",
      "metadata": {
        "id": "wJPl3jeki4us"
      },
      "source": [
        "df_10 = df_10.drop(['ITEM_F007','ITEM_F009','ITEM_F013','ITEM_F015','ITEM_F016','ITEM_F017','ITEM_F018','ITEM_F020','ITEM_F021','ITEM_F023','ITEM_F024','ITEM_F025','ITEM_F026','ITEM_F027','ITEM_F028','ITEM_F030','ITEM_F031','ITEM_F032','ITEM_F033','ITEM_F034','ITEM_F035','ITEM_F036','ITEM_F037','ITEM_F040','ITEM_F041'],axis=1)\n"
      ],
      "execution_count": 130,
      "outputs": []
    },
    {
      "cell_type": "code",
      "metadata": {
        "id": "spoldrUTi9ll"
      },
      "source": [
        "df_10['ITEM_F003'] = df_10['ITEM_F003'].fillna(df_10['ITEM_F003'].mean())\n",
        "df_10['ITEM_F010'] = df_10['ITEM_F010'].fillna(df_10['ITEM_F010'].mean())\n",
        "df_10['ITEM_F014'] = df_10['ITEM_F014'].fillna(df_10['ITEM_F014'].mean())\n",
        "df_10['ITEM_F019'] = df_10['ITEM_F019'].fillna(df_10['ITEM_F019'].mean())\n",
        "df_10['ITEM_F022'] = df_10['ITEM_F022'].fillna(df_10['ITEM_F022'].mean())"
      ],
      "execution_count": 131,
      "outputs": []
    },
    {
      "cell_type": "code",
      "metadata": {
        "id": "cpPH3oOvjDM9"
      },
      "source": [
        "df_10 = pd.get_dummies(df_10, columns = ['TEST_SEX'])"
      ],
      "execution_count": 132,
      "outputs": []
    },
    {
      "cell_type": "code",
      "metadata": {
        "colab": {
          "base_uri": "https://localhost:8080/"
        },
        "id": "seIP6pTFjEfP",
        "outputId": "99efdb37-0087-4c9a-9f87-71d397d5dcad"
      },
      "source": [
        "df_10.info()"
      ],
      "execution_count": 133,
      "outputs": [
        {
          "output_type": "stream",
          "name": "stdout",
          "text": [
            "<class 'pandas.core.frame.DataFrame'>\n",
            "Int64Index: 398 entries, 0 to 1377\n",
            "Data columns (total 15 columns):\n",
            " #   Column      Non-Null Count  Dtype  \n",
            "---  ------      --------------  -----  \n",
            " 0   TEST_AGE    398 non-null    int64  \n",
            " 1   ITEM_F001   398 non-null    float64\n",
            " 2   ITEM_F002   398 non-null    float64\n",
            " 3   ITEM_F003   398 non-null    float64\n",
            " 4   ITEM_F004   398 non-null    float64\n",
            " 5   ITEM_F005   398 non-null    float64\n",
            " 6   ITEM_F006   398 non-null    float64\n",
            " 7   ITEM_F008   398 non-null    float64\n",
            " 8   ITEM_F010   398 non-null    float64\n",
            " 9   ITEM_F012   398 non-null    float64\n",
            " 10  ITEM_F014   398 non-null    float64\n",
            " 11  ITEM_F019   398 non-null    float64\n",
            " 12  ITEM_F022   398 non-null    float64\n",
            " 13  TEST_SEX_F  398 non-null    uint8  \n",
            " 14  TEST_SEX_M  398 non-null    uint8  \n",
            "dtypes: float64(12), int64(1), uint8(2)\n",
            "memory usage: 44.3 KB\n"
          ]
        }
      ]
    },
    {
      "cell_type": "code",
      "metadata": {
        "colab": {
          "base_uri": "https://localhost:8080/",
          "height": 204
        },
        "id": "oUUWE0V4oRNe",
        "outputId": "9cf2a509-1021-4824-c90d-1761f88a43a9"
      },
      "source": [
        "df_10.head()"
      ],
      "execution_count": 134,
      "outputs": [
        {
          "output_type": "execute_result",
          "data": {
            "text/html": [
              "<div>\n",
              "<style scoped>\n",
              "    .dataframe tbody tr th:only-of-type {\n",
              "        vertical-align: middle;\n",
              "    }\n",
              "\n",
              "    .dataframe tbody tr th {\n",
              "        vertical-align: top;\n",
              "    }\n",
              "\n",
              "    .dataframe thead th {\n",
              "        text-align: right;\n",
              "    }\n",
              "</style>\n",
              "<table border=\"1\" class=\"dataframe\">\n",
              "  <thead>\n",
              "    <tr style=\"text-align: right;\">\n",
              "      <th></th>\n",
              "      <th>TEST_AGE</th>\n",
              "      <th>ITEM_F001</th>\n",
              "      <th>ITEM_F002</th>\n",
              "      <th>ITEM_F003</th>\n",
              "      <th>ITEM_F004</th>\n",
              "      <th>ITEM_F005</th>\n",
              "      <th>ITEM_F006</th>\n",
              "      <th>ITEM_F008</th>\n",
              "      <th>ITEM_F010</th>\n",
              "      <th>ITEM_F012</th>\n",
              "      <th>ITEM_F014</th>\n",
              "      <th>ITEM_F019</th>\n",
              "      <th>ITEM_F022</th>\n",
              "      <th>TEST_SEX_F</th>\n",
              "      <th>TEST_SEX_M</th>\n",
              "    </tr>\n",
              "  </thead>\n",
              "  <tbody>\n",
              "    <tr>\n",
              "      <th>0</th>\n",
              "      <td>18</td>\n",
              "      <td>173.8</td>\n",
              "      <td>65.6</td>\n",
              "      <td>17.8</td>\n",
              "      <td>79.7</td>\n",
              "      <td>77.0</td>\n",
              "      <td>117.0</td>\n",
              "      <td>40.0</td>\n",
              "      <td>50.000000</td>\n",
              "      <td>13.7</td>\n",
              "      <td>0.558</td>\n",
              "      <td>38.676647</td>\n",
              "      <td>199.923188</td>\n",
              "      <td>0</td>\n",
              "      <td>1</td>\n",
              "    </tr>\n",
              "    <tr>\n",
              "      <th>1</th>\n",
              "      <td>18</td>\n",
              "      <td>170.5</td>\n",
              "      <td>66.1</td>\n",
              "      <td>15.6</td>\n",
              "      <td>77.0</td>\n",
              "      <td>72.0</td>\n",
              "      <td>128.0</td>\n",
              "      <td>46.3</td>\n",
              "      <td>49.000000</td>\n",
              "      <td>8.2</td>\n",
              "      <td>0.648</td>\n",
              "      <td>38.676647</td>\n",
              "      <td>199.923188</td>\n",
              "      <td>0</td>\n",
              "      <td>1</td>\n",
              "    </tr>\n",
              "    <tr>\n",
              "      <th>2</th>\n",
              "      <td>18</td>\n",
              "      <td>170.3</td>\n",
              "      <td>79.5</td>\n",
              "      <td>27.0</td>\n",
              "      <td>89.0</td>\n",
              "      <td>94.0</td>\n",
              "      <td>137.0</td>\n",
              "      <td>35.9</td>\n",
              "      <td>42.000000</td>\n",
              "      <td>6.2</td>\n",
              "      <td>0.552</td>\n",
              "      <td>38.676647</td>\n",
              "      <td>199.923188</td>\n",
              "      <td>0</td>\n",
              "      <td>1</td>\n",
              "    </tr>\n",
              "    <tr>\n",
              "      <th>3</th>\n",
              "      <td>18</td>\n",
              "      <td>166.5</td>\n",
              "      <td>60.3</td>\n",
              "      <td>20.2</td>\n",
              "      <td>78.0</td>\n",
              "      <td>88.0</td>\n",
              "      <td>135.0</td>\n",
              "      <td>34.4</td>\n",
              "      <td>56.000000</td>\n",
              "      <td>12.8</td>\n",
              "      <td>0.585</td>\n",
              "      <td>38.676647</td>\n",
              "      <td>199.923188</td>\n",
              "      <td>0</td>\n",
              "      <td>1</td>\n",
              "    </tr>\n",
              "    <tr>\n",
              "      <th>4</th>\n",
              "      <td>18</td>\n",
              "      <td>185.1</td>\n",
              "      <td>85.9</td>\n",
              "      <td>15.8</td>\n",
              "      <td>86.5</td>\n",
              "      <td>71.0</td>\n",
              "      <td>130.0</td>\n",
              "      <td>44.1</td>\n",
              "      <td>44.327485</td>\n",
              "      <td>7.9</td>\n",
              "      <td>0.599</td>\n",
              "      <td>38.676647</td>\n",
              "      <td>199.923188</td>\n",
              "      <td>0</td>\n",
              "      <td>1</td>\n",
              "    </tr>\n",
              "  </tbody>\n",
              "</table>\n",
              "</div>"
            ],
            "text/plain": [
              "   TEST_AGE  ITEM_F001  ITEM_F002  ...   ITEM_F022  TEST_SEX_F  TEST_SEX_M\n",
              "0        18      173.8       65.6  ...  199.923188           0           1\n",
              "1        18      170.5       66.1  ...  199.923188           0           1\n",
              "2        18      170.3       79.5  ...  199.923188           0           1\n",
              "3        18      166.5       60.3  ...  199.923188           0           1\n",
              "4        18      185.1       85.9  ...  199.923188           0           1\n",
              "\n",
              "[5 rows x 15 columns]"
            ]
          },
          "metadata": {},
          "execution_count": 134
        }
      ]
    },
    {
      "cell_type": "code",
      "metadata": {
        "id": "RlnHGRqMjGtL"
      },
      "source": [
        "X_10 = df_10"
      ],
      "execution_count": 135,
      "outputs": []
    },
    {
      "cell_type": "code",
      "metadata": {
        "colab": {
          "base_uri": "https://localhost:8080/"
        },
        "id": "HWcuVRp1lfrb",
        "outputId": "3a79e264-4715-4093-f678-54c107384e00"
      },
      "source": [
        "for i in range(len(df)):\n",
        "  if df['PRES_NOTE'][i][:3] == '본운동':\n",
        "    df['PRES_NOTE'][i] = ' / '+ df['PRES_NOTE'][i]"
      ],
      "execution_count": 136,
      "outputs": [
        {
          "output_type": "stream",
          "name": "stderr",
          "text": [
            "/usr/local/lib/python3.7/dist-packages/ipykernel_launcher.py:3: SettingWithCopyWarning: \n",
            "A value is trying to be set on a copy of a slice from a DataFrame\n",
            "\n",
            "See the caveats in the documentation: https://pandas.pydata.org/pandas-docs/stable/user_guide/indexing.html#returning-a-view-versus-a-copy\n",
            "  This is separate from the ipykernel package so we can avoid doing imports until\n"
          ]
        }
      ]
    },
    {
      "cell_type": "code",
      "metadata": {
        "id": "mDHTLh04lgwy"
      },
      "source": [
        "df['준비운동'] = df.PRES_NOTE.str.split(' / ').str[0]\n",
        "df['본운동'] = df.PRES_NOTE.str.split(' / ').str[1]\n",
        "df['마무리운동'] = df.PRES_NOTE.str.split(' / ').str[2]"
      ],
      "execution_count": 137,
      "outputs": []
    },
    {
      "cell_type": "code",
      "metadata": {
        "id": "IJM4sKDmjNg3"
      },
      "source": [
        "y_10_1 = df[df['TEST_AGE'] < 20]['준비운동']\n",
        "y_10_2 = df[df['TEST_AGE'] < 20]['본운동']\n",
        "y_10_3 = df[df['TEST_AGE'] < 20]['마무리운동']\n"
      ],
      "execution_count": 138,
      "outputs": []
    },
    {
      "cell_type": "code",
      "metadata": {
        "id": "cbUtGBBInhTb"
      },
      "source": [
        "y_10_1[y_10_1 == '']= '준비운동:깍지 끼고 상체 숙이기,양팔 벌려 전신 비틀기'"
      ],
      "execution_count": null,
      "outputs": []
    },
    {
      "cell_type": "code",
      "metadata": {
        "id": "LnpS-zoimPlJ"
      },
      "source": [
        "y_10_2 = y_10_2.fillna('본운동:누워서 엉덩이 들어올리기,네발기기 자세로 팔 다리 들기,배스트레칭,엉덩이 스트레칭,넙다리 뒤쪽 스트레칭,넙다리 안쪽 스트레칭,트레드밀에서 걷기,실내 자전거타기,수영,계단 올라갔다 내려오기')"
      ],
      "execution_count": null,
      "outputs": []
    },
    {
      "cell_type": "code",
      "metadata": {
        "id": "Q5qtf7eppOoo"
      },
      "source": [
        "y_10_3 = y_10_3.fillna('마무리운동:마무리운동:내전근 스트레칭,대퇴사두근 스트레칭')"
      ],
      "execution_count": null,
      "outputs": []
    },
    {
      "cell_type": "code",
      "metadata": {
        "colab": {
          "base_uri": "https://localhost:8080/"
        },
        "id": "eSmjFbe9jVDY",
        "outputId": "bfe703d4-5f02-4e7b-ee9e-927fd24edd10"
      },
      "source": [
        "model1 = LogisticRegression(C=10, max_iter=100).fit(X_10,y_10_1)"
      ],
      "execution_count": 142,
      "outputs": [
        {
          "output_type": "stream",
          "name": "stderr",
          "text": [
            "/usr/local/lib/python3.7/dist-packages/sklearn/linear_model/_logistic.py:940: ConvergenceWarning: lbfgs failed to converge (status=1):\n",
            "STOP: TOTAL NO. of ITERATIONS REACHED LIMIT.\n",
            "\n",
            "Increase the number of iterations (max_iter) or scale the data as shown in:\n",
            "    https://scikit-learn.org/stable/modules/preprocessing.html\n",
            "Please also refer to the documentation for alternative solver options:\n",
            "    https://scikit-learn.org/stable/modules/linear_model.html#logistic-regression\n",
            "  extra_warning_msg=_LOGISTIC_SOLVER_CONVERGENCE_MSG)\n"
          ]
        }
      ]
    },
    {
      "cell_type": "code",
      "metadata": {
        "colab": {
          "base_uri": "https://localhost:8080/"
        },
        "id": "WwXVy8a6mBX5",
        "outputId": "ddeb1963-cdc8-4839-c38d-7e1ce38cc4c3"
      },
      "source": [
        "model2 = LogisticRegression(C=10, max_iter=100).fit(X_10,y_10_2)"
      ],
      "execution_count": 143,
      "outputs": [
        {
          "output_type": "stream",
          "name": "stderr",
          "text": [
            "/usr/local/lib/python3.7/dist-packages/sklearn/linear_model/_logistic.py:940: ConvergenceWarning: lbfgs failed to converge (status=1):\n",
            "STOP: TOTAL NO. of ITERATIONS REACHED LIMIT.\n",
            "\n",
            "Increase the number of iterations (max_iter) or scale the data as shown in:\n",
            "    https://scikit-learn.org/stable/modules/preprocessing.html\n",
            "Please also refer to the documentation for alternative solver options:\n",
            "    https://scikit-learn.org/stable/modules/linear_model.html#logistic-regression\n",
            "  extra_warning_msg=_LOGISTIC_SOLVER_CONVERGENCE_MSG)\n"
          ]
        }
      ]
    },
    {
      "cell_type": "code",
      "metadata": {
        "colab": {
          "base_uri": "https://localhost:8080/"
        },
        "id": "CYEFPIQIjpN-",
        "outputId": "2c80a9c6-dbe1-43c2-ddce-5ab54cfbcf91"
      },
      "source": [
        "model3 = LogisticRegression(C=10, max_iter=100).fit(X_10,y_10_3)"
      ],
      "execution_count": 144,
      "outputs": [
        {
          "output_type": "stream",
          "name": "stderr",
          "text": [
            "/usr/local/lib/python3.7/dist-packages/sklearn/linear_model/_logistic.py:940: ConvergenceWarning: lbfgs failed to converge (status=1):\n",
            "STOP: TOTAL NO. of ITERATIONS REACHED LIMIT.\n",
            "\n",
            "Increase the number of iterations (max_iter) or scale the data as shown in:\n",
            "    https://scikit-learn.org/stable/modules/preprocessing.html\n",
            "Please also refer to the documentation for alternative solver options:\n",
            "    https://scikit-learn.org/stable/modules/linear_model.html#logistic-regression\n",
            "  extra_warning_msg=_LOGISTIC_SOLVER_CONVERGENCE_MSG)\n"
          ]
        }
      ]
    },
    {
      "cell_type": "code",
      "metadata": {
        "colab": {
          "base_uri": "https://localhost:8080/"
        },
        "id": "PmiFNy7Wj5BW",
        "outputId": "7e77ef12-2265-40c5-e934-22c8eab834e8"
      },
      "source": [
        "x = X_10.iloc[0]\n",
        "print(len(x))\n",
        "x = pd.DataFrame(x)\n",
        "x = x.transpose()"
      ],
      "execution_count": 27,
      "outputs": [
        {
          "output_type": "stream",
          "name": "stdout",
          "text": [
            "15\n"
          ]
        }
      ]
    },
    {
      "cell_type": "code",
      "metadata": {
        "colab": {
          "base_uri": "https://localhost:8080/"
        },
        "id": "3ZO_-XBhp34V",
        "outputId": "b7d61fa1-c95b-4234-c6fa-484d5398f537"
      },
      "source": [
        "model1.predict(x)"
      ],
      "execution_count": 146,
      "outputs": [
        {
          "output_type": "execute_result",
          "data": {
            "text/plain": [
              "array(['준비운동:깍지 끼고 상체 숙이기,양팔 벌려 전신 비틀기'], dtype=object)"
            ]
          },
          "metadata": {},
          "execution_count": 146
        }
      ]
    },
    {
      "cell_type": "code",
      "metadata": {
        "colab": {
          "base_uri": "https://localhost:8080/"
        },
        "id": "Bp0wIZhgkN_n",
        "outputId": "0be09aa9-bcac-45ef-f905-3d46609a8d04"
      },
      "source": [
        "model2.predict(x)"
      ],
      "execution_count": 147,
      "outputs": [
        {
          "output_type": "execute_result",
          "data": {
            "text/plain": [
              "array(['본운동:저항밴드 운동  루틴프로그램,전완대고 버티기,앞굽이 앉았다 일어서기,걷기,수영,사이드 지그재그 뛰기,순간반응 콘 찍기,정적 스트레칭  루틴프로그램,메디신볼 운동  루틴프로그램'],\n",
              "      dtype=object)"
            ]
          },
          "metadata": {},
          "execution_count": 147
        }
      ]
    },
    {
      "cell_type": "code",
      "metadata": {
        "colab": {
          "base_uri": "https://localhost:8080/"
        },
        "id": "2ZpNUIspkQP7",
        "outputId": "6e00fdd0-9905-469c-c852-d713f3183667"
      },
      "source": [
        "model3.predict(x)"
      ],
      "execution_count": 145,
      "outputs": [
        {
          "output_type": "execute_result",
          "data": {
            "text/plain": [
              "array(['마무리운동:마무리운동:내전근 스트레칭,대퇴사두근 스트레칭'], dtype=object)"
            ]
          },
          "metadata": {},
          "execution_count": 145
        }
      ]
    },
    {
      "cell_type": "code",
      "metadata": {
        "id": "G3cj3sGEp8D7"
      },
      "source": [
        ""
      ],
      "execution_count": null,
      "outputs": []
    }
  ]
}