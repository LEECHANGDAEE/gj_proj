{
  "nbformat": 4,
  "nbformat_minor": 0,
  "metadata": {
    "colab": {
      "name": "20,30대.ipynb",
      "provenance": [],
      "authorship_tag": "ABX9TyMQiagA/0RJnwnEPLLK08Th",
      "include_colab_link": true
    },
    "kernelspec": {
      "name": "python3",
      "display_name": "Python 3"
    },
    "language_info": {
      "name": "python"
    }
  },
  "cells": [
    {
      "cell_type": "markdown",
      "metadata": {
        "id": "view-in-github",
        "colab_type": "text"
      },
      "source": [
        "<a href=\"https://colab.research.google.com/github/LEECHANGDAEE/gj_proj/blob/main/20%2C30%EB%8C%80.ipynb\" target=\"_parent\"><img src=\"https://colab.research.google.com/assets/colab-badge.svg\" alt=\"Open In Colab\"/></a>"
      ]
    },
    {
      "cell_type": "code",
      "metadata": {
        "colab": {
          "base_uri": "https://localhost:8080/"
        },
        "id": "SWfzIu5brE7H",
        "outputId": "a186484f-d603-4171-cc0d-94a6a4d823a8"
      },
      "source": [
        "!pip install mglearn"
      ],
      "execution_count": 32,
      "outputs": [
        {
          "output_type": "stream",
          "name": "stdout",
          "text": [
            "Requirement already satisfied: mglearn in /usr/local/lib/python3.7/dist-packages (0.1.9)\n",
            "Requirement already satisfied: scikit-learn in /usr/local/lib/python3.7/dist-packages (from mglearn) (0.22.2.post1)\n",
            "Requirement already satisfied: joblib in /usr/local/lib/python3.7/dist-packages (from mglearn) (1.0.1)\n",
            "Requirement already satisfied: cycler in /usr/local/lib/python3.7/dist-packages (from mglearn) (0.10.0)\n",
            "Requirement already satisfied: numpy in /usr/local/lib/python3.7/dist-packages (from mglearn) (1.19.5)\n",
            "Requirement already satisfied: pandas in /usr/local/lib/python3.7/dist-packages (from mglearn) (1.1.5)\n",
            "Requirement already satisfied: imageio in /usr/local/lib/python3.7/dist-packages (from mglearn) (2.4.1)\n",
            "Requirement already satisfied: pillow in /usr/local/lib/python3.7/dist-packages (from mglearn) (7.1.2)\n",
            "Requirement already satisfied: matplotlib in /usr/local/lib/python3.7/dist-packages (from mglearn) (3.2.2)\n",
            "Requirement already satisfied: six in /usr/local/lib/python3.7/dist-packages (from cycler->mglearn) (1.15.0)\n",
            "Requirement already satisfied: kiwisolver>=1.0.1 in /usr/local/lib/python3.7/dist-packages (from matplotlib->mglearn) (1.3.2)\n",
            "Requirement already satisfied: pyparsing!=2.0.4,!=2.1.2,!=2.1.6,>=2.0.1 in /usr/local/lib/python3.7/dist-packages (from matplotlib->mglearn) (2.4.7)\n",
            "Requirement already satisfied: python-dateutil>=2.1 in /usr/local/lib/python3.7/dist-packages (from matplotlib->mglearn) (2.8.2)\n",
            "Requirement already satisfied: pytz>=2017.2 in /usr/local/lib/python3.7/dist-packages (from pandas->mglearn) (2018.9)\n",
            "Requirement already satisfied: scipy>=0.17.0 in /usr/local/lib/python3.7/dist-packages (from scikit-learn->mglearn) (1.4.1)\n"
          ]
        }
      ]
    },
    {
      "cell_type": "code",
      "metadata": {
        "id": "neebLf-ZrKA5"
      },
      "source": [
        "import numpy as np\n",
        "import pandas as pd\n",
        "import csv\n",
        "import matplotlib.pyplot as plt\n",
        "import seaborn as sns\n",
        "from sklearn.linear_model import LogisticRegression\n",
        "import mglearn"
      ],
      "execution_count": 33,
      "outputs": []
    },
    {
      "cell_type": "code",
      "metadata": {
        "id": "tl0cm-dhrLHC"
      },
      "source": [
        "df = pd.read_csv('DATA_P.csv', encoding='utf-8')"
      ],
      "execution_count": 34,
      "outputs": []
    },
    {
      "cell_type": "code",
      "metadata": {
        "id": "1dK75JRVrP_k"
      },
      "source": [
        "df_1 = df.drop(['TEST_CNT','AGE_GBN','CENTER_NM','TEST_GBN','INPUT_GBN','CERT_GBN','TEST_YMD','PRES_NOTE','ITEM_F011','ITEM_F029','ITEM_F038','ITEM_F039'],axis=1)\n"
      ],
      "execution_count": 35,
      "outputs": []
    },
    {
      "cell_type": "code",
      "metadata": {
        "id": "e08oiEl5rRy6"
      },
      "source": [
        "df_20_30 = df_1[(df_1['TEST_AGE'] >= 20) & (df_1['TEST_AGE'] < 40)]"
      ],
      "execution_count": 36,
      "outputs": []
    },
    {
      "cell_type": "code",
      "metadata": {
        "id": "NeUw9iyLrapP"
      },
      "source": [
        "df_20_30 = df_20_30.drop(['ITEM_F007','ITEM_F009','ITEM_F010','ITEM_F013','ITEM_F014','ITEM_F015','ITEM_F016','ITEM_F017','ITEM_F018','ITEM_F020','ITEM_F021','ITEM_F023','ITEM_F024','ITEM_F025','ITEM_F026','ITEM_F027','ITEM_F028','ITEM_F030','ITEM_F031','ITEM_F032','ITEM_F033','ITEM_F034','ITEM_F035','ITEM_F036','ITEM_F037','ITEM_F040','ITEM_F041'],axis=1)\n"
      ],
      "execution_count": 37,
      "outputs": []
    },
    {
      "cell_type": "code",
      "metadata": {
        "id": "5uPXDPAZsxxs"
      },
      "source": [
        "df_20_30['ITEM_F012'] = df_20_30['ITEM_F012'].fillna(df_20_30['ITEM_F012'].mean())\n",
        "df_20_30['ITEM_F019'] = df_20_30['ITEM_F019'].fillna(df_20_30['ITEM_F019'].mean())\n",
        "df_20_30['ITEM_F022'] = df_20_30['ITEM_F022'].fillna(df_20_30['ITEM_F022'].mean())\n"
      ],
      "execution_count": 38,
      "outputs": []
    },
    {
      "cell_type": "code",
      "metadata": {
        "id": "WjeV5yJhtHk6"
      },
      "source": [
        "df_20_30 = pd.get_dummies(df_20_30, columns = ['TEST_SEX'])"
      ],
      "execution_count": 39,
      "outputs": []
    },
    {
      "cell_type": "code",
      "metadata": {
        "colab": {
          "base_uri": "https://localhost:8080/"
        },
        "id": "X_Tnrbf2tMfO",
        "outputId": "2763bfc3-b106-4b20-d3ee-e29900817f05"
      },
      "source": [
        "df_20_30.info()"
      ],
      "execution_count": 40,
      "outputs": [
        {
          "output_type": "stream",
          "name": "stdout",
          "text": [
            "<class 'pandas.core.frame.DataFrame'>\n",
            "Int64Index: 651 entries, 11 to 1423\n",
            "Data columns (total 13 columns):\n",
            " #   Column      Non-Null Count  Dtype  \n",
            "---  ------      --------------  -----  \n",
            " 0   TEST_AGE    651 non-null    int64  \n",
            " 1   ITEM_F001   651 non-null    float64\n",
            " 2   ITEM_F002   651 non-null    float64\n",
            " 3   ITEM_F003   651 non-null    float64\n",
            " 4   ITEM_F004   651 non-null    float64\n",
            " 5   ITEM_F005   651 non-null    float64\n",
            " 6   ITEM_F006   651 non-null    float64\n",
            " 7   ITEM_F008   651 non-null    float64\n",
            " 8   ITEM_F012   651 non-null    float64\n",
            " 9   ITEM_F019   651 non-null    float64\n",
            " 10  ITEM_F022   651 non-null    float64\n",
            " 11  TEST_SEX_F  651 non-null    uint8  \n",
            " 12  TEST_SEX_M  651 non-null    uint8  \n",
            "dtypes: float64(10), int64(1), uint8(2)\n",
            "memory usage: 62.3 KB\n"
          ]
        }
      ]
    },
    {
      "cell_type": "code",
      "metadata": {
        "id": "32YC9GaxtOY2"
      },
      "source": [
        "X_20_30 = df_20_30"
      ],
      "execution_count": 41,
      "outputs": []
    },
    {
      "cell_type": "code",
      "metadata": {
        "colab": {
          "base_uri": "https://localhost:8080/"
        },
        "id": "X0CqPErQtZIA",
        "outputId": "c2478f2e-2ba7-492c-af9e-c05475e7c914"
      },
      "source": [
        "for i in range(len(df)):\n",
        "  if df['PRES_NOTE'][i][:3] == '본운동':\n",
        "    df['PRES_NOTE'][i] = ' / '+ df['PRES_NOTE'][i]"
      ],
      "execution_count": 42,
      "outputs": [
        {
          "output_type": "stream",
          "name": "stderr",
          "text": [
            "/usr/local/lib/python3.7/dist-packages/ipykernel_launcher.py:3: SettingWithCopyWarning: \n",
            "A value is trying to be set on a copy of a slice from a DataFrame\n",
            "\n",
            "See the caveats in the documentation: https://pandas.pydata.org/pandas-docs/stable/user_guide/indexing.html#returning-a-view-versus-a-copy\n",
            "  This is separate from the ipykernel package so we can avoid doing imports until\n"
          ]
        }
      ]
    },
    {
      "cell_type": "code",
      "metadata": {
        "id": "vW35tyd0tbCI"
      },
      "source": [
        "df['준비운동'] = df.PRES_NOTE.str.split(' / ').str[0]\n",
        "df['본운동'] = df.PRES_NOTE.str.split(' / ').str[1]\n",
        "df['마무리운동'] = df.PRES_NOTE.str.split(' / ').str[2]"
      ],
      "execution_count": 43,
      "outputs": []
    },
    {
      "cell_type": "code",
      "metadata": {
        "id": "Ln006RI0tcgq"
      },
      "source": [
        "y_20_30_1 = df[(df['TEST_AGE'] >= 20) & (df['TEST_AGE'] < 40)]['준비운동']\n",
        "y_20_30_2 = df[(df['TEST_AGE'] >= 20) & (df['TEST_AGE'] < 40)]['본운동']\n",
        "y_20_30_3 = df[(df['TEST_AGE'] >= 20) & (df['TEST_AGE'] < 40)]['마무리운동']"
      ],
      "execution_count": 44,
      "outputs": []
    },
    {
      "cell_type": "code",
      "metadata": {
        "colab": {
          "base_uri": "https://localhost:8080/"
        },
        "id": "SDqQhzwjto5l",
        "outputId": "93de36a0-3e0d-4dea-c766-0c6c0218654a"
      },
      "source": [
        "y_20_30_1.value_counts()\n",
        "y_20_30_1[y_20_30_1 == '']= '준비운동:하지 루틴 스트레칭1,상지 루틴 스트레칭,하지 루틴 스트레칭2,전신 루틴 스트레칭'"
      ],
      "execution_count": 45,
      "outputs": [
        {
          "output_type": "stream",
          "name": "stderr",
          "text": [
            "/usr/local/lib/python3.7/dist-packages/pandas/core/series.py:1021: SettingWithCopyWarning: \n",
            "A value is trying to be set on a copy of a slice from a DataFrame\n",
            "\n",
            "See the caveats in the documentation: https://pandas.pydata.org/pandas-docs/stable/user_guide/indexing.html#returning-a-view-versus-a-copy\n",
            "  self._where(~key, value, inplace=True)\n"
          ]
        }
      ]
    },
    {
      "cell_type": "code",
      "metadata": {
        "id": "QyBMUT9Qt6P5"
      },
      "source": [
        "y_20_30_2 = y_20_30_2.fillna('본운동:누워서 엉덩이 들어올리기,네발기기 자세로 팔 다리 들기,배스트레칭,엉덩이 스트레칭,넙다리 뒤쪽 스트레칭,넙다리 안쪽 스트레칭,트레드밀에서 걷기,실내 자전거타기,수영,계단 올라갔다 내려오기')"
      ],
      "execution_count": 46,
      "outputs": []
    },
    {
      "cell_type": "code",
      "metadata": {
        "colab": {
          "base_uri": "https://localhost:8080/"
        },
        "id": "bzA-0_LEum66",
        "outputId": "50abc030-d118-4834-a73b-07f08104f807"
      },
      "source": [
        "y_20_30_3.value_counts()"
      ],
      "execution_count": 47,
      "outputs": [
        {
          "output_type": "execute_result",
          "data": {
            "text/plain": [
              "마무리운동:자가근막이완술 루틴 스트레칭                                                   43\n",
              "마무리운동:내전근 스트레칭,대퇴사두근 스트레칭                                               39\n",
              "마무리운동:전신 루틴 스트레칭,실내 자전거타기                                               26\n",
              "마무리운동:하지 루틴 스트레칭1,허리 스트레칭,배스트레칭,좌식생활자를 위한 동적 루틴 스트레칭                    24\n",
              "마무리운동:전신 루틴 스트레칭,트레드밀에서 걷기,자가근막이완술 루틴 스트레칭                              23\n",
              "마무리운동:실내 자전거타기,허리 스트레칭,짐볼을 이용한 동적 루틴 스트레칭,자가근막이완술 루틴 스트레칭,전신 루틴 스트레칭    17\n",
              "마무리운동:발 닿기,몸 기울이기/회전하기                                                  17\n",
              "마무리운동:걷기,실내 자전거타기                                                       15\n",
              "마무리운동:상지 루틴 스트레칭,전신 루틴 스트레칭,자가근막이완술 루틴 스트레칭                             14\n",
              "마무리운동:하지 루틴 스트레칭1,하지 루틴 스트레칭2,전신 루틴 스트레칭                                13\n",
              "마무리운동:넙다리 뒤쪽 스트레칭,넙다리 앞쪽 스트레칭,넙다리 안쪽 스트레칭,자가근막이완술 루틴 스트레칭               11\n",
              "마무리운동:하지 루틴 스트레칭1,전신 루틴 스트레칭                                            11\n",
              "마무리운동:엉덩이 스트레칭,넙다리 안쪽 스트레칭                                              10\n",
              "마무리운동:걷기,엉덩이 스트레칭,대퇴사두근 스트레칭,작은 공을 이용한 동적 루틴 스트레칭                        9\n",
              "마무리운동:트레드밀에서 걷기,엉덩관절 회전하기                                                8\n",
              "마무리운동:하지 루틴 스트레칭1,짐볼을 이용한 동적 루틴 스트레칭,자가근막이완술 루틴 스트레칭                     7\n",
              "마무리운동:서서 다리로 탄력밴드 당기기 I,서서 다리로 탄력밴드 당기기 II                               7\n",
              "마무리운동:전신 루틴 스트레칭                                                         6\n",
              "마무리운동:상지 루틴 스트레칭,전신 루틴 스트레칭                                              4\n",
              "마무리운동:하지 루틴 스트레칭1,하지 루틴 스트레칭2,상지 루틴 스트레칭,무릎굽혀 원 그리기                      3\n",
              "마무리운동:하지 루틴 스트레칭1                                                        2\n",
              "마무리운동:상지 루틴 스트레칭                                                         1\n",
              "마무리운동:실내 자전거타기                                                           1\n",
              "Name: 마무리운동, dtype: int64"
            ]
          },
          "metadata": {},
          "execution_count": 47
        }
      ]
    },
    {
      "cell_type": "code",
      "metadata": {
        "id": "WuZzJ93ouhp5"
      },
      "source": [
        "y_20_30_3 = y_20_30_3.fillna('마무리운동:자가근막이완술 루틴 스트레칭')"
      ],
      "execution_count": 48,
      "outputs": []
    },
    {
      "cell_type": "code",
      "metadata": {
        "colab": {
          "base_uri": "https://localhost:8080/"
        },
        "id": "HzgmVAT4uswv",
        "outputId": "fe75a71c-1a0f-4745-edb7-51627ff8e111"
      },
      "source": [
        "model20_1 = LogisticRegression(C=10, max_iter=100).fit(X_20_30,y_20_30_1)\n",
        "model20_2 = LogisticRegression(C=10, max_iter=100).fit(X_20_30,y_20_30_2)\n",
        "model20_3 = LogisticRegression(C=10, max_iter=100).fit(X_20_30,y_20_30_3)\n"
      ],
      "execution_count": 49,
      "outputs": [
        {
          "output_type": "stream",
          "name": "stderr",
          "text": [
            "/usr/local/lib/python3.7/dist-packages/sklearn/linear_model/_logistic.py:940: ConvergenceWarning: lbfgs failed to converge (status=1):\n",
            "STOP: TOTAL NO. of ITERATIONS REACHED LIMIT.\n",
            "\n",
            "Increase the number of iterations (max_iter) or scale the data as shown in:\n",
            "    https://scikit-learn.org/stable/modules/preprocessing.html\n",
            "Please also refer to the documentation for alternative solver options:\n",
            "    https://scikit-learn.org/stable/modules/linear_model.html#logistic-regression\n",
            "  extra_warning_msg=_LOGISTIC_SOLVER_CONVERGENCE_MSG)\n",
            "/usr/local/lib/python3.7/dist-packages/sklearn/linear_model/_logistic.py:940: ConvergenceWarning: lbfgs failed to converge (status=1):\n",
            "STOP: TOTAL NO. of ITERATIONS REACHED LIMIT.\n",
            "\n",
            "Increase the number of iterations (max_iter) or scale the data as shown in:\n",
            "    https://scikit-learn.org/stable/modules/preprocessing.html\n",
            "Please also refer to the documentation for alternative solver options:\n",
            "    https://scikit-learn.org/stable/modules/linear_model.html#logistic-regression\n",
            "  extra_warning_msg=_LOGISTIC_SOLVER_CONVERGENCE_MSG)\n",
            "/usr/local/lib/python3.7/dist-packages/sklearn/linear_model/_logistic.py:940: ConvergenceWarning: lbfgs failed to converge (status=1):\n",
            "STOP: TOTAL NO. of ITERATIONS REACHED LIMIT.\n",
            "\n",
            "Increase the number of iterations (max_iter) or scale the data as shown in:\n",
            "    https://scikit-learn.org/stable/modules/preprocessing.html\n",
            "Please also refer to the documentation for alternative solver options:\n",
            "    https://scikit-learn.org/stable/modules/linear_model.html#logistic-regression\n",
            "  extra_warning_msg=_LOGISTIC_SOLVER_CONVERGENCE_MSG)\n"
          ]
        }
      ]
    },
    {
      "cell_type": "code",
      "metadata": {
        "colab": {
          "base_uri": "https://localhost:8080/"
        },
        "id": "9zp6br1Nu2vY",
        "outputId": "aa190ef9-305b-41c8-d897-611deaebe84d"
      },
      "source": [
        "x = X_20_30.iloc[0]\n",
        "print(len(x))\n",
        "x = pd.DataFrame(x)\n",
        "x = x.transpose()"
      ],
      "execution_count": 50,
      "outputs": [
        {
          "output_type": "stream",
          "name": "stdout",
          "text": [
            "13\n"
          ]
        }
      ]
    },
    {
      "cell_type": "code",
      "metadata": {
        "colab": {
          "base_uri": "https://localhost:8080/"
        },
        "id": "fHe_IXJbu9Wa",
        "outputId": "913387f9-c9a1-4c63-86c4-c06cbe94ff02"
      },
      "source": [
        "print(model20_1.predict(x))\n",
        "print(model20_2.predict(x))\n",
        "print(model20_3.predict(x))\n"
      ],
      "execution_count": 51,
      "outputs": [
        {
          "output_type": "stream",
          "name": "stdout",
          "text": [
            "['준비운동:하지 루틴 스트레칭1,상지 루틴 스트레칭,하지 루틴 스트레칭2,전신 루틴 스트레칭']\n",
            "['본운동:누워서 엉덩이 들어올리기,네발기기 자세로 팔 다리 들기,배스트레칭,엉덩이 스트레칭,넙다리 뒤쪽 스트레칭,넙다리 안쪽 스트레칭,트레드밀에서 걷기,실내 자전거타기,수영,계단 올라갔다 내려오기']\n",
            "['마무리운동:자가근막이완술 루틴 스트레칭']\n"
          ]
        }
      ]
    },
    {
      "cell_type": "code",
      "metadata": {
        "id": "vcnjcVp-vFTa"
      },
      "source": [
        ""
      ],
      "execution_count": null,
      "outputs": []
    }
  ]
}